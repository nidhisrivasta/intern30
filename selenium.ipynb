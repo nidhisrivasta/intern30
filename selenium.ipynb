{
 "cells": [
  {
   "cell_type": "code",
   "execution_count": 2,
   "id": "c54bd02c",
   "metadata": {},
   "outputs": [
    {
     "name": "stdout",
     "output_type": "stream",
     "text": [
      "Requirement already satisfied: selenium in c:\\users\\lenovo\\anaconda3\\lib\\site-packages (4.4.0)\n",
      "Requirement already satisfied: trio~=0.17 in c:\\users\\lenovo\\anaconda3\\lib\\site-packages (from selenium) (0.21.0)\n",
      "Requirement already satisfied: trio-websocket~=0.9 in c:\\users\\lenovo\\anaconda3\\lib\\site-packages (from selenium) (0.9.2)\n",
      "Requirement already satisfied: urllib3[secure,socks]~=1.26 in c:\\users\\lenovo\\anaconda3\\lib\\site-packages (from selenium) (1.26.7)\n",
      "Requirement already satisfied: outcome in c:\\users\\lenovo\\anaconda3\\lib\\site-packages (from trio~=0.17->selenium) (1.2.0)\n",
      "Requirement already satisfied: sortedcontainers in c:\\users\\lenovo\\anaconda3\\lib\\site-packages (from trio~=0.17->selenium) (2.4.0)\n",
      "Requirement already satisfied: async-generator>=1.9 in c:\\users\\lenovo\\anaconda3\\lib\\site-packages (from trio~=0.17->selenium) (1.10)\n",
      "Requirement already satisfied: cffi>=1.14 in c:\\users\\lenovo\\anaconda3\\lib\\site-packages (from trio~=0.17->selenium) (1.14.6)\n",
      "Requirement already satisfied: attrs>=19.2.0 in c:\\users\\lenovo\\anaconda3\\lib\\site-packages (from trio~=0.17->selenium) (21.2.0)\n",
      "Requirement already satisfied: idna in c:\\users\\lenovo\\anaconda3\\lib\\site-packages (from trio~=0.17->selenium) (3.2)\n",
      "Requirement already satisfied: sniffio in c:\\users\\lenovo\\anaconda3\\lib\\site-packages (from trio~=0.17->selenium) (1.2.0)\n",
      "Requirement already satisfied: pycparser in c:\\users\\lenovo\\anaconda3\\lib\\site-packages (from cffi>=1.14->trio~=0.17->selenium) (2.20)\n",
      "Requirement already satisfied: wsproto>=0.14 in c:\\users\\lenovo\\anaconda3\\lib\\site-packages (from trio-websocket~=0.9->selenium) (1.1.0)\n",
      "Requirement already satisfied: PySocks!=1.5.7,<2.0,>=1.5.6 in c:\\users\\lenovo\\anaconda3\\lib\\site-packages (from urllib3[secure,socks]~=1.26->selenium) (1.7.1)\n",
      "Requirement already satisfied: pyOpenSSL>=0.14 in c:\\users\\lenovo\\anaconda3\\lib\\site-packages (from urllib3[secure,socks]~=1.26->selenium) (21.0.0)\n",
      "Requirement already satisfied: cryptography>=1.3.4 in c:\\users\\lenovo\\anaconda3\\lib\\site-packages (from urllib3[secure,socks]~=1.26->selenium) (3.4.8)\n",
      "Requirement already satisfied: certifi in c:\\users\\lenovo\\anaconda3\\lib\\site-packages (from urllib3[secure,socks]~=1.26->selenium) (2021.10.8)\n",
      "Requirement already satisfied: six>=1.5.2 in c:\\users\\lenovo\\anaconda3\\lib\\site-packages (from pyOpenSSL>=0.14->urllib3[secure,socks]~=1.26->selenium) (1.16.0)\n",
      "Requirement already satisfied: h11<1,>=0.9.0 in c:\\users\\lenovo\\anaconda3\\lib\\site-packages (from wsproto>=0.14->trio-websocket~=0.9->selenium) (0.13.0)\n"
     ]
    }
   ],
   "source": [
    "!pip install selenium"
   ]
  },
  {
   "cell_type": "code",
   "execution_count": 3,
   "id": "c0eb6281",
   "metadata": {},
   "outputs": [],
   "source": [
    "import selenium\n",
    "import pandas as pd\n",
    "from selenium import webdriver\n",
    "import warnings\n",
    "warnings.filterwarnings(\"ignore\")\n",
    "from selenium.common.exceptions import StaleElementReferenceException, NoSuchElementException\n",
    "from selenium.webdriver.common.by import By\n",
    "import time"
   ]
  },
  {
   "cell_type": "markdown",
   "id": "75db7979",
   "metadata": {},
   "source": [
    "Q1. python program to scrape data for “Data Analyst” Job position in “Bangalore” location. You \n",
    "have to scrape the job-title, job-location, company_name, experience_required. You have to scrape first 10 \n",
    "jobs data."
   ]
  },
  {
   "cell_type": "code",
   "execution_count": 4,
   "id": "a6948ba3",
   "metadata": {},
   "outputs": [],
   "source": [
    "driver=webdriver.Chrome(r\"chromedriver.exe\")"
   ]
  },
  {
   "cell_type": "code",
   "execution_count": 5,
   "id": "090e6168",
   "metadata": {},
   "outputs": [],
   "source": [
    "driver.get(\"http://www.naukri.com/\")"
   ]
  },
  {
   "cell_type": "code",
   "execution_count": 6,
   "id": "a10b1ed2",
   "metadata": {},
   "outputs": [],
   "source": [
    "designation=driver.find_element(By.CLASS_NAME,\"suggestor-input\")\n",
    "designation.send_keys('Data Analyst')"
   ]
  },
  {
   "cell_type": "code",
   "execution_count": 7,
   "id": "5b0f243f",
   "metadata": {},
   "outputs": [],
   "source": [
    "location=driver.find_element(By.XPATH,\"/html/body/div[1]/div[2]/div[3]/div/div/div[5]/div/div/div/input\")\n",
    "location.send_keys('Banglore')"
   ]
  },
  {
   "cell_type": "code",
   "execution_count": 8,
   "id": "49415905",
   "metadata": {},
   "outputs": [],
   "source": [
    "search=driver.find_element(By.CLASS_NAME,\"qsbSubmit\")\n",
    "search.click()"
   ]
  },
  {
   "cell_type": "code",
   "execution_count": 9,
   "id": "0c4d65e3",
   "metadata": {},
   "outputs": [],
   "source": [
    "job_title=[]\n",
    "job_location=[]\n",
    "company_name=[]\n",
    "experience_required=[]"
   ]
  },
  {
   "cell_type": "code",
   "execution_count": 10,
   "id": "760d66c1",
   "metadata": {},
   "outputs": [],
   "source": [
    "title_tags=driver.find_elements(By.XPATH,'//a[@class=\"title fw500 ellipsis\"]')\n",
    "for i in title_tags[0:10]:\n",
    "    title=i.text\n",
    "    job_title.append(title)\n",
    "    \n",
    "    \n",
    "location_tags=driver.find_elements(By.XPATH,'//li[@class=\"fleft grey-text br2 placeHolderLi location\"]')\n",
    "for i in location_tags[0:10]:\n",
    "    location=i.text\n",
    "    job_location.append(location)\n",
    "    \n",
    "    \n",
    "company_tags=driver.find_elements(By.XPATH,'//a[@class=\"subTitle ellipsis fleft\"]')\n",
    "for i in company_tags[0:10]:\n",
    "    company=i.text\n",
    "    company_name.append(company)\n",
    "    \n",
    "    \n",
    "experience_tags=driver.find_elements(By.XPATH,'//li[@class=\"fleft grey-text br2 placeHolderLi experience\"]//span')\n",
    "for i in experience_tags[0:10]:\n",
    "    experience=i.text\n",
    "    experience_required.append(experience)\n",
    "    "
   ]
  },
  {
   "cell_type": "code",
   "execution_count": 11,
   "id": "3a1297ef",
   "metadata": {},
   "outputs": [
    {
     "name": "stdout",
     "output_type": "stream",
     "text": [
      "10 10 10 10\n"
     ]
    }
   ],
   "source": [
    "print(len(job_title),len(job_location),len(company_name),len(experience_required))"
   ]
  },
  {
   "cell_type": "code",
   "execution_count": 12,
   "id": "3cf5559f",
   "metadata": {},
   "outputs": [
    {
     "data": {
      "text/html": [
       "<div>\n",
       "<style scoped>\n",
       "    .dataframe tbody tr th:only-of-type {\n",
       "        vertical-align: middle;\n",
       "    }\n",
       "\n",
       "    .dataframe tbody tr th {\n",
       "        vertical-align: top;\n",
       "    }\n",
       "\n",
       "    .dataframe thead th {\n",
       "        text-align: right;\n",
       "    }\n",
       "</style>\n",
       "<table border=\"1\" class=\"dataframe\">\n",
       "  <thead>\n",
       "    <tr style=\"text-align: right;\">\n",
       "      <th></th>\n",
       "      <th>Job_Title</th>\n",
       "      <th>Job_location</th>\n",
       "      <th>Company_Name</th>\n",
       "      <th>Experience_Required</th>\n",
       "    </tr>\n",
       "  </thead>\n",
       "  <tbody>\n",
       "    <tr>\n",
       "      <th>0</th>\n",
       "      <td>Sr. Business Data Analyst</td>\n",
       "      <td>Bangalore/Bengaluru</td>\n",
       "      <td>Infometry</td>\n",
       "      <td>4-6 Yrs</td>\n",
       "    </tr>\n",
       "    <tr>\n",
       "      <th>1</th>\n",
       "      <td>Business &amp; Data Analyst- Assistant Manager</td>\n",
       "      <td>Hyderabad/Secunderabad, Bangalore/Bengaluru</td>\n",
       "      <td>State Street</td>\n",
       "      <td>1-3 Yrs</td>\n",
       "    </tr>\n",
       "    <tr>\n",
       "      <th>2</th>\n",
       "      <td>Manager / Senior Manager - Data Analyst</td>\n",
       "      <td>Mumbai, Hyderabad/Secunderabad, Pune, Gurgaon/...</td>\n",
       "      <td>Huquo Consulting Pvt. Ltd</td>\n",
       "      <td>2-7 Yrs</td>\n",
       "    </tr>\n",
       "    <tr>\n",
       "      <th>3</th>\n",
       "      <td>Senior Data Analyst(Power BI/Python)</td>\n",
       "      <td>Bangalore/Bengaluru</td>\n",
       "      <td>Societe Generale</td>\n",
       "      <td>3-7 Yrs</td>\n",
       "    </tr>\n",
       "    <tr>\n",
       "      <th>4</th>\n",
       "      <td>Sr. Data Analyst</td>\n",
       "      <td>Bhopal, Indore, New Delhi, Pune, Bangalore Rur...</td>\n",
       "      <td>Netlink Software</td>\n",
       "      <td>3-6 Yrs</td>\n",
       "    </tr>\n",
       "    <tr>\n",
       "      <th>5</th>\n",
       "      <td>Business Analyst - Data Strategy</td>\n",
       "      <td>Bangalore/Bengaluru</td>\n",
       "      <td>Capco</td>\n",
       "      <td>9-11 Yrs</td>\n",
       "    </tr>\n",
       "    <tr>\n",
       "      <th>6</th>\n",
       "      <td>DATA Analyst- Immediate Joining</td>\n",
       "      <td>Bangalore/Bengaluru(Cox Town)</td>\n",
       "      <td>ADVISETREE CONSULTING PRIVATE LIMITED</td>\n",
       "      <td>3-5 Yrs</td>\n",
       "    </tr>\n",
       "    <tr>\n",
       "      <th>7</th>\n",
       "      <td>Senior Data Analyst</td>\n",
       "      <td>Bangalore/Bengaluru(Old Madras Road)</td>\n",
       "      <td>KrazyBee</td>\n",
       "      <td>3-6 Yrs</td>\n",
       "    </tr>\n",
       "    <tr>\n",
       "      <th>8</th>\n",
       "      <td>Senior Data Analyst</td>\n",
       "      <td>Bangalore/Bengaluru</td>\n",
       "      <td>Qualitest India Private Limited</td>\n",
       "      <td>5-8 Yrs</td>\n",
       "    </tr>\n",
       "    <tr>\n",
       "      <th>9</th>\n",
       "      <td>Sr. Data Analyst</td>\n",
       "      <td>Pune, Bangalore/Bengaluru</td>\n",
       "      <td>Global Indian School Education Services</td>\n",
       "      <td>6-11 Yrs</td>\n",
       "    </tr>\n",
       "  </tbody>\n",
       "</table>\n",
       "</div>"
      ],
      "text/plain": [
       "                                    Job_Title  \\\n",
       "0                   Sr. Business Data Analyst   \n",
       "1  Business & Data Analyst- Assistant Manager   \n",
       "2     Manager / Senior Manager - Data Analyst   \n",
       "3        Senior Data Analyst(Power BI/Python)   \n",
       "4                            Sr. Data Analyst   \n",
       "5            Business Analyst - Data Strategy   \n",
       "6             DATA Analyst- Immediate Joining   \n",
       "7                         Senior Data Analyst   \n",
       "8                         Senior Data Analyst   \n",
       "9                            Sr. Data Analyst   \n",
       "\n",
       "                                        Job_location  \\\n",
       "0                                Bangalore/Bengaluru   \n",
       "1        Hyderabad/Secunderabad, Bangalore/Bengaluru   \n",
       "2  Mumbai, Hyderabad/Secunderabad, Pune, Gurgaon/...   \n",
       "3                                Bangalore/Bengaluru   \n",
       "4  Bhopal, Indore, New Delhi, Pune, Bangalore Rur...   \n",
       "5                                Bangalore/Bengaluru   \n",
       "6                      Bangalore/Bengaluru(Cox Town)   \n",
       "7               Bangalore/Bengaluru(Old Madras Road)   \n",
       "8                                Bangalore/Bengaluru   \n",
       "9                          Pune, Bangalore/Bengaluru   \n",
       "\n",
       "                              Company_Name Experience_Required  \n",
       "0                                Infometry             4-6 Yrs  \n",
       "1                             State Street             1-3 Yrs  \n",
       "2                Huquo Consulting Pvt. Ltd             2-7 Yrs  \n",
       "3                         Societe Generale             3-7 Yrs  \n",
       "4                         Netlink Software             3-6 Yrs  \n",
       "5                                    Capco            9-11 Yrs  \n",
       "6    ADVISETREE CONSULTING PRIVATE LIMITED             3-5 Yrs  \n",
       "7                                 KrazyBee             3-6 Yrs  \n",
       "8          Qualitest India Private Limited             5-8 Yrs  \n",
       "9  Global Indian School Education Services            6-11 Yrs  "
      ]
     },
     "execution_count": 12,
     "metadata": {},
     "output_type": "execute_result"
    }
   ],
   "source": [
    "df=pd.DataFrame({'Job_Title':job_title,'Job_location':job_location,'Company_Name':company_name,'Experience_Required':experience_required})\n",
    "df"
   ]
  },
  {
   "cell_type": "markdown",
   "id": "150c67fb",
   "metadata": {},
   "source": [
    "Q2.a python program to scrape data for “Data Scientist” Job position in “Bangalore” location. You \n",
    "have to scrape the job-title, job-location, company_name. You have to scrape first 10 jobs data."
   ]
  },
  {
   "cell_type": "code",
   "execution_count": 13,
   "id": "3e87b32f",
   "metadata": {},
   "outputs": [],
   "source": [
    "driver.get(\"http://www.naukri.com/\")"
   ]
  },
  {
   "cell_type": "code",
   "execution_count": 14,
   "id": "52075bbc",
   "metadata": {},
   "outputs": [],
   "source": [
    "designation=driver.find_element(By.CLASS_NAME,\"suggestor-input \")\n",
    "designation.send_keys('Data Scientist')\n",
    "                                "
   ]
  },
  {
   "cell_type": "code",
   "execution_count": 15,
   "id": "bbb0f080",
   "metadata": {},
   "outputs": [],
   "source": [
    "location=driver.find_element(By.XPATH,\"/html/body/div[1]/div[2]/div[3]/div/div/div[5]/div/div/div/input\")\n",
    "location.send_keys('Banglore')"
   ]
  },
  {
   "cell_type": "code",
   "execution_count": 16,
   "id": "223bd37a",
   "metadata": {},
   "outputs": [],
   "source": [
    "search=driver.find_element(By.CLASS_NAME,\"qsbSubmit\")\n",
    "search.click()"
   ]
  },
  {
   "cell_type": "code",
   "execution_count": 17,
   "id": "7469ede4",
   "metadata": {},
   "outputs": [],
   "source": [
    "job_title=[]\n",
    "job_location=[]\n",
    "company_name=[]"
   ]
  },
  {
   "cell_type": "code",
   "execution_count": 18,
   "id": "cc8f2ab7",
   "metadata": {},
   "outputs": [],
   "source": [
    "title_tags=driver.find_elements(By.XPATH,'//a[@class=\"title fw500 ellipsis\"]')\n",
    "for i in title_tags[0:10]:\n",
    "    title=i.text\n",
    "    job_title.append(title)\n",
    "    \n",
    "    \n",
    "location_tags=driver.find_elements(By.XPATH,'//li[@class=\"fleft grey-text br2 placeHolderLi location\"]')\n",
    "for i in location_tags[0:10]:\n",
    "    location=i.text\n",
    "    job_location.append(location)\n",
    "    \n",
    "    \n",
    "company_tags=driver.find_elements(By.XPATH,'//a[@class=\"subTitle ellipsis fleft\"]')\n",
    "for i in company_tags[0:10]:\n",
    "    company=i.text\n",
    "    company_name.append(company)\n",
    "    "
   ]
  },
  {
   "cell_type": "code",
   "execution_count": 19,
   "id": "9290af8c",
   "metadata": {},
   "outputs": [
    {
     "name": "stdout",
     "output_type": "stream",
     "text": [
      "10 10 10\n"
     ]
    }
   ],
   "source": [
    "print(len(job_title),len(job_location),len(company_name))"
   ]
  },
  {
   "cell_type": "code",
   "execution_count": 20,
   "id": "d4041133",
   "metadata": {},
   "outputs": [
    {
     "data": {
      "text/html": [
       "<div>\n",
       "<style scoped>\n",
       "    .dataframe tbody tr th:only-of-type {\n",
       "        vertical-align: middle;\n",
       "    }\n",
       "\n",
       "    .dataframe tbody tr th {\n",
       "        vertical-align: top;\n",
       "    }\n",
       "\n",
       "    .dataframe thead th {\n",
       "        text-align: right;\n",
       "    }\n",
       "</style>\n",
       "<table border=\"1\" class=\"dataframe\">\n",
       "  <thead>\n",
       "    <tr style=\"text-align: right;\">\n",
       "      <th></th>\n",
       "      <th>Job_Title</th>\n",
       "      <th>Job_location</th>\n",
       "      <th>Company_Name</th>\n",
       "    </tr>\n",
       "  </thead>\n",
       "  <tbody>\n",
       "    <tr>\n",
       "      <th>0</th>\n",
       "      <td>data science analyst</td>\n",
       "      <td>Bangalore/Bengaluru</td>\n",
       "      <td>CRED</td>\n",
       "    </tr>\n",
       "    <tr>\n",
       "      <th>1</th>\n",
       "      <td>Forecasting Analyst/ Data Scientist (US Client)</td>\n",
       "      <td>Gurgaon/Gurugram, Bangalore/Bengaluru\\n(WFH du...</td>\n",
       "      <td>Concentrix</td>\n",
       "    </tr>\n",
       "    <tr>\n",
       "      <th>2</th>\n",
       "      <td>Data scientist _Tata Consultancy Services(Tcs)</td>\n",
       "      <td>Kochi/Cochin, Indore, New Delhi, Hyderabad/Sec...</td>\n",
       "      <td>TATA CONSULTANCY SERVICES (TCS)</td>\n",
       "    </tr>\n",
       "    <tr>\n",
       "      <th>3</th>\n",
       "      <td>Job||Job Opening For AI Technologist - Data Sc...</td>\n",
       "      <td>New Delhi, Hyderabad/Secunderabad, Pune, Chenn...</td>\n",
       "      <td>Wipro</td>\n",
       "    </tr>\n",
       "    <tr>\n",
       "      <th>4</th>\n",
       "      <td>Hiring For DATA Scientist @ NTT DATA Business ...</td>\n",
       "      <td>Noida, Hyderabad/Secunderabad, Pune, Gurgaon/G...</td>\n",
       "      <td>NTT DATA Business Solutions Private Limited</td>\n",
       "    </tr>\n",
       "    <tr>\n",
       "      <th>5</th>\n",
       "      <td>Tcs Hiring For Data Scientist</td>\n",
       "      <td>Chennai, Bangalore/Bengaluru, Mumbai (All Areas)</td>\n",
       "      <td>TATA CONSULTANCY SERVICES (TCS)</td>\n",
       "    </tr>\n",
       "    <tr>\n",
       "      <th>6</th>\n",
       "      <td>Urgent Job Opening For AI Practitioner - Data ...</td>\n",
       "      <td>Kochi/Cochin, New Delhi, Bangalore/Bengaluru, ...</td>\n",
       "      <td>Wipro</td>\n",
       "    </tr>\n",
       "    <tr>\n",
       "      <th>7</th>\n",
       "      <td>Data Scientist Lead_Tata Consultancy Services(...</td>\n",
       "      <td>Kolkata, Hyderabad/Secunderabad, Chennai, Bang...</td>\n",
       "      <td>TATA CONSULTANCY SERVICES (TCS)</td>\n",
       "    </tr>\n",
       "    <tr>\n",
       "      <th>8</th>\n",
       "      <td>Assistant Manager - Data Science</td>\n",
       "      <td>Mumbai, Pune, Bangalore/Bengaluru</td>\n",
       "      <td>CitiusTech</td>\n",
       "    </tr>\n",
       "    <tr>\n",
       "      <th>9</th>\n",
       "      <td>Data Scientist Python</td>\n",
       "      <td>Hyderabad/Secunderabad, Bangalore/Bengaluru</td>\n",
       "      <td>Conduent</td>\n",
       "    </tr>\n",
       "  </tbody>\n",
       "</table>\n",
       "</div>"
      ],
      "text/plain": [
       "                                           Job_Title  \\\n",
       "0                               data science analyst   \n",
       "1    Forecasting Analyst/ Data Scientist (US Client)   \n",
       "2     Data scientist _Tata Consultancy Services(Tcs)   \n",
       "3  Job||Job Opening For AI Technologist - Data Sc...   \n",
       "4  Hiring For DATA Scientist @ NTT DATA Business ...   \n",
       "5                      Tcs Hiring For Data Scientist   \n",
       "6  Urgent Job Opening For AI Practitioner - Data ...   \n",
       "7  Data Scientist Lead_Tata Consultancy Services(...   \n",
       "8                   Assistant Manager - Data Science   \n",
       "9                              Data Scientist Python   \n",
       "\n",
       "                                        Job_location  \\\n",
       "0                                Bangalore/Bengaluru   \n",
       "1  Gurgaon/Gurugram, Bangalore/Bengaluru\\n(WFH du...   \n",
       "2  Kochi/Cochin, Indore, New Delhi, Hyderabad/Sec...   \n",
       "3  New Delhi, Hyderabad/Secunderabad, Pune, Chenn...   \n",
       "4  Noida, Hyderabad/Secunderabad, Pune, Gurgaon/G...   \n",
       "5   Chennai, Bangalore/Bengaluru, Mumbai (All Areas)   \n",
       "6  Kochi/Cochin, New Delhi, Bangalore/Bengaluru, ...   \n",
       "7  Kolkata, Hyderabad/Secunderabad, Chennai, Bang...   \n",
       "8                  Mumbai, Pune, Bangalore/Bengaluru   \n",
       "9        Hyderabad/Secunderabad, Bangalore/Bengaluru   \n",
       "\n",
       "                                  Company_Name  \n",
       "0                                         CRED  \n",
       "1                                   Concentrix  \n",
       "2              TATA CONSULTANCY SERVICES (TCS)  \n",
       "3                                        Wipro  \n",
       "4  NTT DATA Business Solutions Private Limited  \n",
       "5              TATA CONSULTANCY SERVICES (TCS)  \n",
       "6                                        Wipro  \n",
       "7              TATA CONSULTANCY SERVICES (TCS)  \n",
       "8                                   CitiusTech  \n",
       "9                                     Conduent  "
      ]
     },
     "execution_count": 20,
     "metadata": {},
     "output_type": "execute_result"
    }
   ],
   "source": [
    "df=pd.DataFrame({'Job_Title':job_title,'Job_location':job_location,'Company_Name':company_name})\n",
    "df"
   ]
  },
  {
   "cell_type": "markdown",
   "id": "4ba5fd43",
   "metadata": {},
   "source": [
    "Q3.e location and salary filter.\n",
    "You have to scrape data for “Data Scientist” designation for first 10 job results.\n",
    "You have to scrape the job-title, job-location, company name, experience required. \n",
    "The location filter to be used is “Delhi/NCR”. The salary filter to be used is “3-6” lakhs"
   ]
  },
  {
   "cell_type": "code",
   "execution_count": 35,
   "id": "cf4c44cb",
   "metadata": {},
   "outputs": [],
   "source": [
    "driver.get(\"http://www.naukri.com/\")"
   ]
  },
  {
   "cell_type": "code",
   "execution_count": 36,
   "id": "ddaaf987",
   "metadata": {},
   "outputs": [],
   "source": [
    "designation=driver.find_element(By.CLASS_NAME,\"suggestor-input \")\n",
    "designation.send_keys('Data Scientist')"
   ]
  },
  {
   "cell_type": "code",
   "execution_count": 37,
   "id": "21a02a98",
   "metadata": {},
   "outputs": [],
   "source": [
    "search=driver.find_element(By.CLASS_NAME,\"qsbSubmit\")\n",
    "search.click()"
   ]
  },
  {
   "cell_type": "code",
   "execution_count": 38,
   "id": "c5c4f7f4",
   "metadata": {},
   "outputs": [],
   "source": [
    "job_title=[]\n",
    "job_location=[]\n",
    "company_name=[]\n",
    "experience_required=[]"
   ]
  },
  {
   "cell_type": "code",
   "execution_count": 39,
   "id": "1fed3286",
   "metadata": {},
   "outputs": [],
   "source": [
    "title_tags=driver.find_elements(By.XPATH,'//a[@class=\"title fw500 ellipsis\"]')\n",
    "for i in title_tags[0:10]:\n",
    "    title=i.text\n",
    "    job_title.append(title)\n",
    "    \n",
    "    \n",
    "location_tags=driver.find_elements(By.XPATH,'//li[@class=\"fleft grey-text br2 placeHolderLi location\"]')\n",
    "for i in location_tags[0:10]:\n",
    "    location=i.text\n",
    "    job_location.append(location)\n",
    "    \n",
    "    \n",
    "company_tags=driver.find_elements(By.XPATH,'//a[@class=\"subTitle ellipsis fleft\"]')\n",
    "for i in company_tags[0:10]:\n",
    "    company=i.text\n",
    "    company_name.append(company)\n",
    "    \n",
    "    \n",
    "experience_tags=driver.find_elements(By.XPATH,'//li[@class=\"fleft grey-text br2 placeHolderLi experience\"]//span')\n",
    "for i in experience_tags[0:10]:\n",
    "    experience=i.text\n",
    "    experience_required.append(experience)\n",
    "    "
   ]
  },
  {
   "cell_type": "code",
   "execution_count": 40,
   "id": "1ff2bd79",
   "metadata": {},
   "outputs": [
    {
     "name": "stdout",
     "output_type": "stream",
     "text": [
      "10 10 10 10\n"
     ]
    }
   ],
   "source": [
    "print(len(job_title),len(job_location),len(company_name),len(experience_required))"
   ]
  },
  {
   "cell_type": "code",
   "execution_count": 41,
   "id": "ebdde33a",
   "metadata": {},
   "outputs": [
    {
     "data": {
      "text/html": [
       "<div>\n",
       "<style scoped>\n",
       "    .dataframe tbody tr th:only-of-type {\n",
       "        vertical-align: middle;\n",
       "    }\n",
       "\n",
       "    .dataframe tbody tr th {\n",
       "        vertical-align: top;\n",
       "    }\n",
       "\n",
       "    .dataframe thead th {\n",
       "        text-align: right;\n",
       "    }\n",
       "</style>\n",
       "<table border=\"1\" class=\"dataframe\">\n",
       "  <thead>\n",
       "    <tr style=\"text-align: right;\">\n",
       "      <th></th>\n",
       "      <th>Job_Title</th>\n",
       "      <th>Job_location</th>\n",
       "      <th>Company_Name</th>\n",
       "      <th>Experience_Required</th>\n",
       "    </tr>\n",
       "  </thead>\n",
       "  <tbody>\n",
       "    <tr>\n",
       "      <th>0</th>\n",
       "      <td>Job||Job Opening For AI Technologist - Data Sc...</td>\n",
       "      <td>New Delhi, Hyderabad/Secunderabad, Pune, Chenn...</td>\n",
       "      <td>Wipro</td>\n",
       "      <td>5-10 Yrs</td>\n",
       "    </tr>\n",
       "    <tr>\n",
       "      <th>1</th>\n",
       "      <td>Data Scientist - Noida/Bangalore</td>\n",
       "      <td>Noida, Bangalore/Bengaluru</td>\n",
       "      <td>EXL</td>\n",
       "      <td>5-10 Yrs</td>\n",
       "    </tr>\n",
       "    <tr>\n",
       "      <th>2</th>\n",
       "      <td>DigitalBCG GAMMA Data Scientist</td>\n",
       "      <td>New Delhi, Bangalore/Bengaluru</td>\n",
       "      <td>Boston Consulting Group</td>\n",
       "      <td>2-5 Yrs</td>\n",
       "    </tr>\n",
       "    <tr>\n",
       "      <th>3</th>\n",
       "      <td>Data Scientist</td>\n",
       "      <td>Gurgaon/Gurugram</td>\n",
       "      <td>Optum</td>\n",
       "      <td>2-7 Yrs</td>\n",
       "    </tr>\n",
       "    <tr>\n",
       "      <th>4</th>\n",
       "      <td>Data Scientist - Predictive Analytics</td>\n",
       "      <td>Noida, Mumbai, Chandigarh, Hyderabad/Secundera...</td>\n",
       "      <td>Confidential</td>\n",
       "      <td>1-6 Yrs</td>\n",
       "    </tr>\n",
       "    <tr>\n",
       "      <th>5</th>\n",
       "      <td>Chat-bot Developer / Data Scientist</td>\n",
       "      <td>Mumbai, New Delhi, Bangalore/Bengaluru\\n(WFH d...</td>\n",
       "      <td>Big Seo Buzz</td>\n",
       "      <td>2-7 Yrs</td>\n",
       "    </tr>\n",
       "    <tr>\n",
       "      <th>6</th>\n",
       "      <td>Data Scientist / Chat-bot Developer</td>\n",
       "      <td>New Delhi, Bangalore/Bengaluru, Mumbai (All Ar...</td>\n",
       "      <td>Big Seo Buzz</td>\n",
       "      <td>3-7 Yrs</td>\n",
       "    </tr>\n",
       "    <tr>\n",
       "      <th>7</th>\n",
       "      <td>Data Scientist - Engine Algorithm</td>\n",
       "      <td>Delhi / NCR, Kolkata, Mumbai, Hyderabad/Secund...</td>\n",
       "      <td>Primo Hiring</td>\n",
       "      <td>1-3 Yrs</td>\n",
       "    </tr>\n",
       "    <tr>\n",
       "      <th>8</th>\n",
       "      <td>Data Scientist For Healthcare Product team</td>\n",
       "      <td>Delhi / NCR, Chennai, Bangalore/Bengaluru</td>\n",
       "      <td>SECUREKLOUD TECHNOLOGIES</td>\n",
       "      <td>2-7 Yrs</td>\n",
       "    </tr>\n",
       "    <tr>\n",
       "      <th>9</th>\n",
       "      <td>Data Scientist</td>\n",
       "      <td>Gurgaon/Gurugram</td>\n",
       "      <td>Feedback Infra</td>\n",
       "      <td>2-4 Yrs</td>\n",
       "    </tr>\n",
       "  </tbody>\n",
       "</table>\n",
       "</div>"
      ],
      "text/plain": [
       "                                           Job_Title  \\\n",
       "0  Job||Job Opening For AI Technologist - Data Sc...   \n",
       "1                   Data Scientist - Noida/Bangalore   \n",
       "2                    DigitalBCG GAMMA Data Scientist   \n",
       "3                                     Data Scientist   \n",
       "4              Data Scientist - Predictive Analytics   \n",
       "5                Chat-bot Developer / Data Scientist   \n",
       "6                Data Scientist / Chat-bot Developer   \n",
       "7                  Data Scientist - Engine Algorithm   \n",
       "8         Data Scientist For Healthcare Product team   \n",
       "9                                     Data Scientist   \n",
       "\n",
       "                                        Job_location  \\\n",
       "0  New Delhi, Hyderabad/Secunderabad, Pune, Chenn...   \n",
       "1                         Noida, Bangalore/Bengaluru   \n",
       "2                     New Delhi, Bangalore/Bengaluru   \n",
       "3                                   Gurgaon/Gurugram   \n",
       "4  Noida, Mumbai, Chandigarh, Hyderabad/Secundera...   \n",
       "5  Mumbai, New Delhi, Bangalore/Bengaluru\\n(WFH d...   \n",
       "6  New Delhi, Bangalore/Bengaluru, Mumbai (All Ar...   \n",
       "7  Delhi / NCR, Kolkata, Mumbai, Hyderabad/Secund...   \n",
       "8          Delhi / NCR, Chennai, Bangalore/Bengaluru   \n",
       "9                                   Gurgaon/Gurugram   \n",
       "\n",
       "               Company_Name Experience_Required  \n",
       "0                     Wipro            5-10 Yrs  \n",
       "1                       EXL            5-10 Yrs  \n",
       "2   Boston Consulting Group             2-5 Yrs  \n",
       "3                     Optum             2-7 Yrs  \n",
       "4              Confidential             1-6 Yrs  \n",
       "5              Big Seo Buzz             2-7 Yrs  \n",
       "6              Big Seo Buzz             3-7 Yrs  \n",
       "7              Primo Hiring             1-3 Yrs  \n",
       "8  SECUREKLOUD TECHNOLOGIES             2-7 Yrs  \n",
       "9            Feedback Infra             2-4 Yrs  "
      ]
     },
     "execution_count": 41,
     "metadata": {},
     "output_type": "execute_result"
    }
   ],
   "source": [
    "df=pd.DataFrame({'Job_Title':job_title,'Job_location':job_location,'Company_Name':company_name,'Experience_Required':experience_required})\n",
    "df"
   ]
  },
  {
   "cell_type": "markdown",
   "id": "700742c8",
   "metadata": {},
   "source": [
    "Q4.Scrape data of first 100 sunglasses listings on flipkart.com. You have to scrape four attributes:\n",
    "1. Brand\n",
    "2. Produc"
   ]
  },
  {
   "cell_type": "code",
   "execution_count": 42,
   "id": "59c7d49d",
   "metadata": {},
   "outputs": [],
   "source": [
    "driver.get(\"http://www.flipkart.com/\")"
   ]
  },
  {
   "cell_type": "code",
   "execution_count": 43,
   "id": "e0093013",
   "metadata": {},
   "outputs": [],
   "source": [
    "brand=driver.find_element(By.CLASS_NAME,\"_3704LK \")\n",
    "brand.send_keys('Sunglasses')\n",
    "                                "
   ]
  },
  {
   "cell_type": "code",
   "execution_count": 44,
   "id": "9100c24c",
   "metadata": {},
   "outputs": [],
   "source": [
    "search=driver.find_element(By.CLASS_NAME,\"L0Z3Pu\")\n",
    "search.click()"
   ]
  },
  {
   "cell_type": "code",
   "execution_count": 45,
   "id": "3b80bd9e",
   "metadata": {},
   "outputs": [],
   "source": [
    "brand=[]\n",
    "product_description=[]\n",
    "price_amt=[]\n",
    "discount_percentage=[]"
   ]
  },
  {
   "cell_type": "code",
   "execution_count": 46,
   "id": "472c0823",
   "metadata": {},
   "outputs": [],
   "source": [
    "brand_tags=driver.find_elements(By.XPATH,'//div[@class=\"_2WkVRV\"]')\n",
    "for i in brand_tags:\n",
    "    title=i.text\n",
    "    brand.append(title)\n",
    "    \n",
    "    \n",
    "product_tags=driver.find_elements(By.XPATH,'//a[@class=\"IRpwTa\"]')\n",
    "for i in product_tags:\n",
    "    product=i.text\n",
    "    product_description.append(product)\n",
    "    \n",
    "    \n",
    "price_tags=driver.find_elements(By.XPATH,'//div[@class=\"_30jeq3\"]')\n",
    "for i in price_tags:\n",
    "    price=i.text\n",
    "    price_amt.append(price)\n",
    "    \n",
    "    \n",
    "discount_tags=driver.find_elements(By.XPATH,'//div[@class=\"_3Ay6Sb\"]//span')\n",
    "for i in discount_tags:\n",
    "    discount=i.text\n",
    "    discount_percentage.append(discount)\n",
    "    "
   ]
  },
  {
   "cell_type": "code",
   "execution_count": 47,
   "id": "0615b62f",
   "metadata": {},
   "outputs": [
    {
     "name": "stdout",
     "output_type": "stream",
     "text": [
      "40 40 40 40\n"
     ]
    }
   ],
   "source": [
    "print(len(brand),len(product_description),len(price_amt),len(discount_percentage))"
   ]
  },
  {
   "cell_type": "code",
   "execution_count": 48,
   "id": "fd114403",
   "metadata": {},
   "outputs": [
    {
     "data": {
      "text/html": [
       "<div>\n",
       "<style scoped>\n",
       "    .dataframe tbody tr th:only-of-type {\n",
       "        vertical-align: middle;\n",
       "    }\n",
       "\n",
       "    .dataframe tbody tr th {\n",
       "        vertical-align: top;\n",
       "    }\n",
       "\n",
       "    .dataframe thead th {\n",
       "        text-align: right;\n",
       "    }\n",
       "</style>\n",
       "<table border=\"1\" class=\"dataframe\">\n",
       "  <thead>\n",
       "    <tr style=\"text-align: right;\">\n",
       "      <th></th>\n",
       "      <th>Brand</th>\n",
       "      <th>Product_Description</th>\n",
       "      <th>Price</th>\n",
       "      <th>Discount_percentage</th>\n",
       "    </tr>\n",
       "  </thead>\n",
       "  <tbody>\n",
       "    <tr>\n",
       "      <th>0</th>\n",
       "      <td>Fastrack</td>\n",
       "      <td>UV Protection Wayfarer Sunglasses (Free Size)</td>\n",
       "      <td>₹749</td>\n",
       "      <td>20% off</td>\n",
       "    </tr>\n",
       "    <tr>\n",
       "      <th>1</th>\n",
       "      <td>SRPM</td>\n",
       "      <td>UV Protection Wayfarer Sunglasses (50)</td>\n",
       "      <td>₹749</td>\n",
       "      <td>83% off</td>\n",
       "    </tr>\n",
       "    <tr>\n",
       "      <th>2</th>\n",
       "      <td>Elligator</td>\n",
       "      <td>UV Protection Round Sunglasses (54)</td>\n",
       "      <td>₹749</td>\n",
       "      <td>88% off</td>\n",
       "    </tr>\n",
       "    <tr>\n",
       "      <th>3</th>\n",
       "      <td>SUNBEE</td>\n",
       "      <td>UV Protection, Polarized Wayfarer Sunglasses (...</td>\n",
       "      <td>₹749</td>\n",
       "      <td>78% off</td>\n",
       "    </tr>\n",
       "    <tr>\n",
       "      <th>4</th>\n",
       "      <td>PIRASO</td>\n",
       "      <td>UV Protection Rectangular Sunglasses (52)</td>\n",
       "      <td>₹749</td>\n",
       "      <td>89% off</td>\n",
       "    </tr>\n",
       "    <tr>\n",
       "      <th>5</th>\n",
       "      <td>New Specs</td>\n",
       "      <td>UV Protection Rectangular Sunglasses (Free Size)</td>\n",
       "      <td>₹749</td>\n",
       "      <td>86% off</td>\n",
       "    </tr>\n",
       "    <tr>\n",
       "      <th>6</th>\n",
       "      <td>Fastrack</td>\n",
       "      <td>UV Protection Rectangular Sunglasses (Free Size)</td>\n",
       "      <td>₹749</td>\n",
       "      <td>20% off</td>\n",
       "    </tr>\n",
       "    <tr>\n",
       "      <th>7</th>\n",
       "      <td>PIRASO</td>\n",
       "      <td>UV Protection Aviator Sunglasses (54)</td>\n",
       "      <td>₹749</td>\n",
       "      <td>82% off</td>\n",
       "    </tr>\n",
       "    <tr>\n",
       "      <th>8</th>\n",
       "      <td>PIRASO</td>\n",
       "      <td>UV Protection Aviator Sunglasses (58)</td>\n",
       "      <td>₹749</td>\n",
       "      <td>86% off</td>\n",
       "    </tr>\n",
       "    <tr>\n",
       "      <th>9</th>\n",
       "      <td>Fastrack</td>\n",
       "      <td>UV Protection Aviator Sunglasses (58)</td>\n",
       "      <td>₹749</td>\n",
       "      <td>10% off</td>\n",
       "    </tr>\n",
       "    <tr>\n",
       "      <th>10</th>\n",
       "      <td>PHENOMENAL</td>\n",
       "      <td>UV Protection Retro Square Sunglasses (53)</td>\n",
       "      <td>₹749</td>\n",
       "      <td>74% off</td>\n",
       "    </tr>\n",
       "    <tr>\n",
       "      <th>11</th>\n",
       "      <td>LIZA ANGEL</td>\n",
       "      <td>Riding Glasses, Night Vision Spectacle Sunglas...</td>\n",
       "      <td>₹749</td>\n",
       "      <td>82% off</td>\n",
       "    </tr>\n",
       "    <tr>\n",
       "      <th>12</th>\n",
       "      <td>ROZZETTA CRAFT</td>\n",
       "      <td>UV Protection Retro Square Sunglasses (Free Size)</td>\n",
       "      <td>₹749</td>\n",
       "      <td>78% off</td>\n",
       "    </tr>\n",
       "    <tr>\n",
       "      <th>13</th>\n",
       "      <td>New Specs</td>\n",
       "      <td>UV Protection Oval Sunglasses (Free Size)</td>\n",
       "      <td>₹749</td>\n",
       "      <td>79% off</td>\n",
       "    </tr>\n",
       "    <tr>\n",
       "      <th>14</th>\n",
       "      <td>NuVew</td>\n",
       "      <td>UV Protection Aviator Sunglasses (57)</td>\n",
       "      <td>₹749</td>\n",
       "      <td>73% off</td>\n",
       "    </tr>\n",
       "    <tr>\n",
       "      <th>15</th>\n",
       "      <td>PIRASO</td>\n",
       "      <td>UV Protection Wayfarer Sunglasses (32)</td>\n",
       "      <td>₹749</td>\n",
       "      <td>82% off</td>\n",
       "    </tr>\n",
       "    <tr>\n",
       "      <th>16</th>\n",
       "      <td>Fastrack</td>\n",
       "      <td>Mirrored, UV Protection Wayfarer Sunglasses (F...</td>\n",
       "      <td>₹749</td>\n",
       "      <td>10% off</td>\n",
       "    </tr>\n",
       "    <tr>\n",
       "      <th>17</th>\n",
       "      <td>Dannilo</td>\n",
       "      <td>Others Spectacle Sunglasses (Free Size)</td>\n",
       "      <td>₹749</td>\n",
       "      <td>78% off</td>\n",
       "    </tr>\n",
       "    <tr>\n",
       "      <th>18</th>\n",
       "      <td>IZAAN MART</td>\n",
       "      <td>UV Protection Rectangular Sunglasses (55)</td>\n",
       "      <td>₹749</td>\n",
       "      <td>85% off</td>\n",
       "    </tr>\n",
       "    <tr>\n",
       "      <th>19</th>\n",
       "      <td>SHAAH COLLECTIONS</td>\n",
       "      <td>UV Protection, Polarized, Mirrored Rectangular...</td>\n",
       "      <td>₹749</td>\n",
       "      <td>88% off</td>\n",
       "    </tr>\n",
       "    <tr>\n",
       "      <th>20</th>\n",
       "      <td>Fastrack</td>\n",
       "      <td>Gradient, UV Protection Wayfarer Sunglasses (F...</td>\n",
       "      <td>₹749</td>\n",
       "      <td>20% off</td>\n",
       "    </tr>\n",
       "    <tr>\n",
       "      <th>21</th>\n",
       "      <td>PIRASO</td>\n",
       "      <td>UV Protection Aviator Sunglasses (54)</td>\n",
       "      <td>₹749</td>\n",
       "      <td>82% off</td>\n",
       "    </tr>\n",
       "    <tr>\n",
       "      <th>22</th>\n",
       "      <td>Sewell</td>\n",
       "      <td>Mirrored, Night Vision, UV Protection, Riding ...</td>\n",
       "      <td>₹749</td>\n",
       "      <td>82% off</td>\n",
       "    </tr>\n",
       "    <tr>\n",
       "      <th>23</th>\n",
       "      <td>Fastrack</td>\n",
       "      <td>UV Protection Aviator Sunglasses (58)</td>\n",
       "      <td>₹749</td>\n",
       "      <td>20% off</td>\n",
       "    </tr>\n",
       "    <tr>\n",
       "      <th>24</th>\n",
       "      <td>Lee Topper</td>\n",
       "      <td>UV Protection Rectangular Sunglasses (Free Size)</td>\n",
       "      <td>₹749</td>\n",
       "      <td>78% off</td>\n",
       "    </tr>\n",
       "    <tr>\n",
       "      <th>25</th>\n",
       "      <td>SUNBEE</td>\n",
       "      <td>UV Protection, Polarized, Mirrored Retro Squar...</td>\n",
       "      <td>₹749</td>\n",
       "      <td>80% off</td>\n",
       "    </tr>\n",
       "    <tr>\n",
       "      <th>26</th>\n",
       "      <td>SUNBEE</td>\n",
       "      <td>UV Protection, Polarized, Mirrored Wayfarer Su...</td>\n",
       "      <td>₹749</td>\n",
       "      <td>78% off</td>\n",
       "    </tr>\n",
       "    <tr>\n",
       "      <th>27</th>\n",
       "      <td>Fastrack</td>\n",
       "      <td>UV Protection Aviator Sunglasses (Free Size)</td>\n",
       "      <td>₹749</td>\n",
       "      <td>20% off</td>\n",
       "    </tr>\n",
       "    <tr>\n",
       "      <th>28</th>\n",
       "      <td>ROZZETTA CRAFT</td>\n",
       "      <td>Polarized, Riding Glasses Sports, Wrap-around ...</td>\n",
       "      <td>₹749</td>\n",
       "      <td>76% off</td>\n",
       "    </tr>\n",
       "    <tr>\n",
       "      <th>29</th>\n",
       "      <td>ROZZETTA CRAFT</td>\n",
       "      <td>UV Protection Aviator Sunglasses (55)</td>\n",
       "      <td>₹749</td>\n",
       "      <td>75% off</td>\n",
       "    </tr>\n",
       "    <tr>\n",
       "      <th>30</th>\n",
       "      <td>ROZZETTA CRAFT</td>\n",
       "      <td>UV Protection, Gradient Rectangular Sunglasses...</td>\n",
       "      <td>₹749</td>\n",
       "      <td>81% off</td>\n",
       "    </tr>\n",
       "    <tr>\n",
       "      <th>31</th>\n",
       "      <td>ROYAL SON</td>\n",
       "      <td>Mirrored Aviator Sunglasses (55)</td>\n",
       "      <td>₹749</td>\n",
       "      <td>74% off</td>\n",
       "    </tr>\n",
       "    <tr>\n",
       "      <th>32</th>\n",
       "      <td>Mi</td>\n",
       "      <td>Polarized Aviator Sunglasses (Free Size)</td>\n",
       "      <td>₹749</td>\n",
       "      <td>33% off</td>\n",
       "    </tr>\n",
       "    <tr>\n",
       "      <th>33</th>\n",
       "      <td>Lee Topper</td>\n",
       "      <td>Riding Glasses Wrap-around Sunglasses (Free Size)</td>\n",
       "      <td>₹749</td>\n",
       "      <td>88% off</td>\n",
       "    </tr>\n",
       "    <tr>\n",
       "      <th>34</th>\n",
       "      <td>Elligator</td>\n",
       "      <td>UV Protection Round Sunglasses (53)</td>\n",
       "      <td>₹749</td>\n",
       "      <td>79% off</td>\n",
       "    </tr>\n",
       "    <tr>\n",
       "      <th>35</th>\n",
       "      <td>Fastrack</td>\n",
       "      <td>UV Protection Wayfarer Sunglasses (Free Size)</td>\n",
       "      <td>₹749</td>\n",
       "      <td>15% off</td>\n",
       "    </tr>\n",
       "    <tr>\n",
       "      <th>36</th>\n",
       "      <td>EYELLUSION</td>\n",
       "      <td>Riding Glasses, Riding Glasses, UV Protection ...</td>\n",
       "      <td>₹749</td>\n",
       "      <td>80% off</td>\n",
       "    </tr>\n",
       "    <tr>\n",
       "      <th>37</th>\n",
       "      <td>kingsunglasses</td>\n",
       "      <td>UV Protection, Mirrored Aviator Sunglasses (Fr...</td>\n",
       "      <td>₹749</td>\n",
       "      <td>85% off</td>\n",
       "    </tr>\n",
       "    <tr>\n",
       "      <th>38</th>\n",
       "      <td>Fastrack</td>\n",
       "      <td>UV Protection Shield Sunglasses (Free Size)</td>\n",
       "      <td>₹749</td>\n",
       "      <td>20% off</td>\n",
       "    </tr>\n",
       "    <tr>\n",
       "      <th>39</th>\n",
       "      <td>VINCENT CHASE</td>\n",
       "      <td>by Lenskart Polarized, UV Protection Wayfarer ...</td>\n",
       "      <td>₹749</td>\n",
       "      <td>70% off</td>\n",
       "    </tr>\n",
       "  </tbody>\n",
       "</table>\n",
       "</div>"
      ],
      "text/plain": [
       "                Brand                                Product_Description  \\\n",
       "0            Fastrack      UV Protection Wayfarer Sunglasses (Free Size)   \n",
       "1                SRPM             UV Protection Wayfarer Sunglasses (50)   \n",
       "2           Elligator                UV Protection Round Sunglasses (54)   \n",
       "3              SUNBEE  UV Protection, Polarized Wayfarer Sunglasses (...   \n",
       "4              PIRASO          UV Protection Rectangular Sunglasses (52)   \n",
       "5           New Specs   UV Protection Rectangular Sunglasses (Free Size)   \n",
       "6            Fastrack   UV Protection Rectangular Sunglasses (Free Size)   \n",
       "7              PIRASO              UV Protection Aviator Sunglasses (54)   \n",
       "8              PIRASO              UV Protection Aviator Sunglasses (58)   \n",
       "9            Fastrack              UV Protection Aviator Sunglasses (58)   \n",
       "10         PHENOMENAL         UV Protection Retro Square Sunglasses (53)   \n",
       "11         LIZA ANGEL  Riding Glasses, Night Vision Spectacle Sunglas...   \n",
       "12     ROZZETTA CRAFT  UV Protection Retro Square Sunglasses (Free Size)   \n",
       "13          New Specs          UV Protection Oval Sunglasses (Free Size)   \n",
       "14              NuVew              UV Protection Aviator Sunglasses (57)   \n",
       "15             PIRASO             UV Protection Wayfarer Sunglasses (32)   \n",
       "16           Fastrack  Mirrored, UV Protection Wayfarer Sunglasses (F...   \n",
       "17            Dannilo            Others Spectacle Sunglasses (Free Size)   \n",
       "18         IZAAN MART          UV Protection Rectangular Sunglasses (55)   \n",
       "19  SHAAH COLLECTIONS  UV Protection, Polarized, Mirrored Rectangular...   \n",
       "20           Fastrack  Gradient, UV Protection Wayfarer Sunglasses (F...   \n",
       "21             PIRASO              UV Protection Aviator Sunglasses (54)   \n",
       "22             Sewell  Mirrored, Night Vision, UV Protection, Riding ...   \n",
       "23           Fastrack              UV Protection Aviator Sunglasses (58)   \n",
       "24         Lee Topper   UV Protection Rectangular Sunglasses (Free Size)   \n",
       "25             SUNBEE  UV Protection, Polarized, Mirrored Retro Squar...   \n",
       "26             SUNBEE  UV Protection, Polarized, Mirrored Wayfarer Su...   \n",
       "27           Fastrack       UV Protection Aviator Sunglasses (Free Size)   \n",
       "28     ROZZETTA CRAFT  Polarized, Riding Glasses Sports, Wrap-around ...   \n",
       "29     ROZZETTA CRAFT              UV Protection Aviator Sunglasses (55)   \n",
       "30     ROZZETTA CRAFT  UV Protection, Gradient Rectangular Sunglasses...   \n",
       "31          ROYAL SON                   Mirrored Aviator Sunglasses (55)   \n",
       "32                 Mi           Polarized Aviator Sunglasses (Free Size)   \n",
       "33         Lee Topper  Riding Glasses Wrap-around Sunglasses (Free Size)   \n",
       "34          Elligator                UV Protection Round Sunglasses (53)   \n",
       "35           Fastrack      UV Protection Wayfarer Sunglasses (Free Size)   \n",
       "36         EYELLUSION  Riding Glasses, Riding Glasses, UV Protection ...   \n",
       "37     kingsunglasses  UV Protection, Mirrored Aviator Sunglasses (Fr...   \n",
       "38           Fastrack        UV Protection Shield Sunglasses (Free Size)   \n",
       "39      VINCENT CHASE  by Lenskart Polarized, UV Protection Wayfarer ...   \n",
       "\n",
       "   Price Discount_percentage  \n",
       "0   ₹749             20% off  \n",
       "1   ₹749             83% off  \n",
       "2   ₹749             88% off  \n",
       "3   ₹749             78% off  \n",
       "4   ₹749             89% off  \n",
       "5   ₹749             86% off  \n",
       "6   ₹749             20% off  \n",
       "7   ₹749             82% off  \n",
       "8   ₹749             86% off  \n",
       "9   ₹749             10% off  \n",
       "10  ₹749             74% off  \n",
       "11  ₹749             82% off  \n",
       "12  ₹749             78% off  \n",
       "13  ₹749             79% off  \n",
       "14  ₹749             73% off  \n",
       "15  ₹749             82% off  \n",
       "16  ₹749             10% off  \n",
       "17  ₹749             78% off  \n",
       "18  ₹749             85% off  \n",
       "19  ₹749             88% off  \n",
       "20  ₹749             20% off  \n",
       "21  ₹749             82% off  \n",
       "22  ₹749             82% off  \n",
       "23  ₹749             20% off  \n",
       "24  ₹749             78% off  \n",
       "25  ₹749             80% off  \n",
       "26  ₹749             78% off  \n",
       "27  ₹749             20% off  \n",
       "28  ₹749             76% off  \n",
       "29  ₹749             75% off  \n",
       "30  ₹749             81% off  \n",
       "31  ₹749             74% off  \n",
       "32  ₹749             33% off  \n",
       "33  ₹749             88% off  \n",
       "34  ₹749             79% off  \n",
       "35  ₹749             15% off  \n",
       "36  ₹749             80% off  \n",
       "37  ₹749             85% off  \n",
       "38  ₹749             20% off  \n",
       "39  ₹749             70% off  "
      ]
     },
     "execution_count": 48,
     "metadata": {},
     "output_type": "execute_result"
    }
   ],
   "source": [
    "df=pd.DataFrame({'Brand':brand,'Product_Description':product_description,'Price':price,'Discount_percentage':discount_percentage})\n",
    "df"
   ]
  },
  {
   "cell_type": "markdown",
   "id": "fd50441b",
   "metadata": {},
   "source": [
    "Q5: Scrape 100 reviews data from flipkart.com for iphone11 phone.\n",
    "This task will be done in following steps:"
   ]
  },
  {
   "cell_type": "code",
   "execution_count": 49,
   "id": "7f1c06d2",
   "metadata": {},
   "outputs": [
    {
     "data": {
      "text/plain": [
       "[<selenium.webdriver.remote.webelement.WebElement (session=\"363f78f1107bc99ebd90fd8af954c795\", element=\"a52e8ac6-591d-4aed-90f5-d52224e48943\")>,\n",
       " <selenium.webdriver.remote.webelement.WebElement (session=\"363f78f1107bc99ebd90fd8af954c795\", element=\"ce18e798-b1f5-41f6-8f71-a0fb3d7be199\")>,\n",
       " <selenium.webdriver.remote.webelement.WebElement (session=\"363f78f1107bc99ebd90fd8af954c795\", element=\"83128f6f-6fe9-4f74-b04d-a06e85406fa4\")>]"
      ]
     },
     "execution_count": 49,
     "metadata": {},
     "output_type": "execute_result"
    }
   ],
   "source": [
    "url=driver.find_elements(By.XPATH,'//a[@class=\"_2UzuFa\"]')\n",
    "url[0:3]"
   ]
  },
  {
   "cell_type": "code",
   "execution_count": 50,
   "id": "f9b06635",
   "metadata": {},
   "outputs": [
    {
     "name": "stdout",
     "output_type": "stream",
     "text": [
      "https://www.flipkart.com/fastrack-wayfarer-sunglasses/p/itm44f5aeeecaf5c?pid=SGLF79DQR8NQAT2W&lid=LSTSGLF79DQR8NQAT2WWQCQ7S&marketplace=FLIPKART&q=Sunglasses&store=26x&srno=s_1_1&otracker=search&otracker1=search&fm=organic&iid=675456bb-dbaf-40cd-bb37-60d17c4740c4.SGLF79DQR8NQAT2W.SEARCH&ppt=hp&ppn=homepage&ssid=src3dahkio0000001661066181843&qH=0ff7a11a5902c9f7\n",
      "https://www.flipkart.com/srpm-wayfarer-sunglasses/p/itmaf19ae5820c06?pid=SGLFHQPHY2GZ4HFP&lid=LSTSGLFHQPHY2GZ4HFP0AZWKY&marketplace=FLIPKART&q=Sunglasses&store=26x&srno=s_1_2&otracker=search&otracker1=search&fm=organic&iid=675456bb-dbaf-40cd-bb37-60d17c4740c4.SGLFHQPHY2GZ4HFP.SEARCH&ppt=hp&ppn=homepage&ssid=src3dahkio0000001661066181843&qH=0ff7a11a5902c9f7\n",
      "https://www.flipkart.com/elligator-round-sunglasses/p/itm3c981fc444358?pid=SGLFPHP5BVBJTCDB&lid=LSTSGLFPHP5BVBJTCDB7P4T6G&marketplace=FLIPKART&q=Sunglasses&store=26x&srno=s_1_3&otracker=search&otracker1=search&fm=organic&iid=675456bb-dbaf-40cd-bb37-60d17c4740c4.SGLFPHP5BVBJTCDB.SEARCH&ppt=hp&ppn=homepage&ssid=src3dahkio0000001661066181843&qH=0ff7a11a5902c9f7\n"
     ]
    }
   ],
   "source": [
    "for i in url[0:3]:\n",
    "    print(i.get_attribute(\"href\"))"
   ]
  },
  {
   "cell_type": "code",
   "execution_count": 51,
   "id": "f93eec59",
   "metadata": {},
   "outputs": [],
   "source": [
    "brand=[]\n",
    "product_description=[]\n",
    "price_amt=[]\n",
    "discount_percentage=[]\n"
   ]
  },
  {
   "cell_type": "code",
   "execution_count": 52,
   "id": "1ce44039",
   "metadata": {},
   "outputs": [],
   "source": [
    "start=0\n",
    "end=3\n",
    "for page in range(start,end):\n",
    "    titles=driver.find_elements(By.XPATH,\"//div[@class='_2WkVRV']\")\n",
    "    for i in titles:\n",
    "        brand.append(i.text)\n",
    "    \n",
    "    product_tags=driver.find_elements(By.XPATH,'//a[@class=\"IRpwTa\"]')\n",
    "    for i in product_tags:\n",
    "        product_description.append(i.text)\n",
    "        \n",
    "    price_tags=driver.find_elements(By.XPATH,'//div[@class=\"_30jeq3\"]')\n",
    "    for i in price_tags:\n",
    "        price_amt.append(i.text)\n",
    "    \n",
    "    \n",
    "    discount_tags=driver.find_elements(By.XPATH,'//div[@class=\"_3Ay6Sb\"]//span')\n",
    "    for i in discount_tags:\n",
    "        discount_percentage.append(i.text)\n",
    "    \n",
    "\n",
    "    next_button=driver.find_element(By.XPATH,\"//a[@class='_1LKTO3']//span\")\n",
    "    next_button.click()\n",
    "    time.sleep(3)\n",
    "    \n"
   ]
  },
  {
   "cell_type": "code",
   "execution_count": 53,
   "id": "746818e7",
   "metadata": {},
   "outputs": [],
   "source": [
    "Brand=brand[0:100]\n",
    "Product_description=product_description[0:100]\n",
    "Price_amt=price_amt[0:100]\n",
    "Discount_percentage=discount_percentage[0:100]"
   ]
  },
  {
   "cell_type": "code",
   "execution_count": 54,
   "id": "dac0d1ab",
   "metadata": {},
   "outputs": [
    {
     "name": "stdout",
     "output_type": "stream",
     "text": [
      "100 100 100 100\n"
     ]
    }
   ],
   "source": [
    "print(len(Brand),len(Product_description),len(Price_amt),len(Discount_percentage))"
   ]
  },
  {
   "cell_type": "code",
   "execution_count": 55,
   "id": "2ecc0c90",
   "metadata": {},
   "outputs": [
    {
     "data": {
      "text/html": [
       "<div>\n",
       "<style scoped>\n",
       "    .dataframe tbody tr th:only-of-type {\n",
       "        vertical-align: middle;\n",
       "    }\n",
       "\n",
       "    .dataframe tbody tr th {\n",
       "        vertical-align: top;\n",
       "    }\n",
       "\n",
       "    .dataframe thead th {\n",
       "        text-align: right;\n",
       "    }\n",
       "</style>\n",
       "<table border=\"1\" class=\"dataframe\">\n",
       "  <thead>\n",
       "    <tr style=\"text-align: right;\">\n",
       "      <th></th>\n",
       "      <th>bnd</th>\n",
       "      <th>pdt</th>\n",
       "      <th>prc</th>\n",
       "      <th>dscnt</th>\n",
       "    </tr>\n",
       "  </thead>\n",
       "  <tbody>\n",
       "    <tr>\n",
       "      <th>0</th>\n",
       "      <td>Fastrack</td>\n",
       "      <td>UV Protection Wayfarer Sunglasses (Free Size)</td>\n",
       "      <td>₹799</td>\n",
       "      <td>20% off</td>\n",
       "    </tr>\n",
       "    <tr>\n",
       "      <th>1</th>\n",
       "      <td>SRPM</td>\n",
       "      <td>UV Protection Wayfarer Sunglasses (50)</td>\n",
       "      <td>₹211</td>\n",
       "      <td>83% off</td>\n",
       "    </tr>\n",
       "    <tr>\n",
       "      <th>2</th>\n",
       "      <td>Elligator</td>\n",
       "      <td>UV Protection Round Sunglasses (54)</td>\n",
       "      <td>₹298</td>\n",
       "      <td>88% off</td>\n",
       "    </tr>\n",
       "    <tr>\n",
       "      <th>3</th>\n",
       "      <td>SUNBEE</td>\n",
       "      <td>UV Protection, Polarized Wayfarer Sunglasses (...</td>\n",
       "      <td>₹283</td>\n",
       "      <td>78% off</td>\n",
       "    </tr>\n",
       "    <tr>\n",
       "      <th>4</th>\n",
       "      <td>PIRASO</td>\n",
       "      <td>UV Protection Rectangular Sunglasses (52)</td>\n",
       "      <td>₹280</td>\n",
       "      <td>89% off</td>\n",
       "    </tr>\n",
       "    <tr>\n",
       "      <th>...</th>\n",
       "      <td>...</td>\n",
       "      <td>...</td>\n",
       "      <td>...</td>\n",
       "      <td>...</td>\n",
       "    </tr>\n",
       "    <tr>\n",
       "      <th>95</th>\n",
       "      <td>PIRASO</td>\n",
       "      <td>UV Protection Wayfarer Sunglasses (32)</td>\n",
       "      <td>₹279</td>\n",
       "      <td>82% off</td>\n",
       "    </tr>\n",
       "    <tr>\n",
       "      <th>96</th>\n",
       "      <td>Fastrack</td>\n",
       "      <td>Mirrored, UV Protection Wayfarer Sunglasses (F...</td>\n",
       "      <td>₹899</td>\n",
       "      <td>10% off</td>\n",
       "    </tr>\n",
       "    <tr>\n",
       "      <th>97</th>\n",
       "      <td>Dannilo</td>\n",
       "      <td>Others Spectacle Sunglasses (Free Size)</td>\n",
       "      <td>₹170</td>\n",
       "      <td>78% off</td>\n",
       "    </tr>\n",
       "    <tr>\n",
       "      <th>98</th>\n",
       "      <td>IZAAN MART</td>\n",
       "      <td>UV Protection Rectangular Sunglasses (55)</td>\n",
       "      <td>₹290</td>\n",
       "      <td>85% off</td>\n",
       "    </tr>\n",
       "    <tr>\n",
       "      <th>99</th>\n",
       "      <td>SHAAH COLLECTIONS</td>\n",
       "      <td>UV Protection, Polarized, Mirrored Rectangular...</td>\n",
       "      <td>₹195</td>\n",
       "      <td>88% off</td>\n",
       "    </tr>\n",
       "  </tbody>\n",
       "</table>\n",
       "<p>100 rows × 4 columns</p>\n",
       "</div>"
      ],
      "text/plain": [
       "                  bnd                                                pdt  \\\n",
       "0            Fastrack      UV Protection Wayfarer Sunglasses (Free Size)   \n",
       "1                SRPM             UV Protection Wayfarer Sunglasses (50)   \n",
       "2           Elligator                UV Protection Round Sunglasses (54)   \n",
       "3              SUNBEE  UV Protection, Polarized Wayfarer Sunglasses (...   \n",
       "4              PIRASO          UV Protection Rectangular Sunglasses (52)   \n",
       "..                ...                                                ...   \n",
       "95             PIRASO             UV Protection Wayfarer Sunglasses (32)   \n",
       "96           Fastrack  Mirrored, UV Protection Wayfarer Sunglasses (F...   \n",
       "97            Dannilo            Others Spectacle Sunglasses (Free Size)   \n",
       "98         IZAAN MART          UV Protection Rectangular Sunglasses (55)   \n",
       "99  SHAAH COLLECTIONS  UV Protection, Polarized, Mirrored Rectangular...   \n",
       "\n",
       "     prc    dscnt  \n",
       "0   ₹799  20% off  \n",
       "1   ₹211  83% off  \n",
       "2   ₹298  88% off  \n",
       "3   ₹283  78% off  \n",
       "4   ₹280  89% off  \n",
       "..   ...      ...  \n",
       "95  ₹279  82% off  \n",
       "96  ₹899  10% off  \n",
       "97  ₹170  78% off  \n",
       "98  ₹290  85% off  \n",
       "99  ₹195  88% off  \n",
       "\n",
       "[100 rows x 4 columns]"
      ]
     },
     "execution_count": 55,
     "metadata": {},
     "output_type": "execute_result"
    }
   ],
   "source": [
    "df=pd.DataFrame({'bnd':Brand,'pdt':Product_description,'prc':Price_amt,'dscnt':Discount_percentage})\n",
    "df"
   ]
  },
  {
   "cell_type": "markdown",
   "id": "0ec0da20",
   "metadata": {},
   "source": [
    "Q5: Scrape 100 reviews data from flipkart.com for iphone11 phone.\n",
    "This task will be done in following steps:"
   ]
  },
  {
   "cell_type": "code",
   "execution_count": 56,
   "id": "a456bdca",
   "metadata": {},
   "outputs": [],
   "source": [
    "driver.get(\"http://www.flipkart.com/\")"
   ]
  },
  {
   "cell_type": "code",
   "execution_count": 57,
   "id": "bb961f5b",
   "metadata": {},
   "outputs": [],
   "source": [
    "brand=driver.find_element(By.CLASS_NAME,\"_3704LK \")\n",
    "brand.send_keys('Iphone11')"
   ]
  },
  {
   "cell_type": "code",
   "execution_count": 58,
   "id": "9389f3ed",
   "metadata": {},
   "outputs": [],
   "source": [
    "search=driver.find_element(By.CLASS_NAME,\"L0Z3Pu\")\n",
    "search.click()"
   ]
  },
  {
   "cell_type": "code",
   "execution_count": 59,
   "id": "188d6ca8",
   "metadata": {},
   "outputs": [
    {
     "data": {
      "text/plain": [
       "[<selenium.webdriver.remote.webelement.WebElement (session=\"363f78f1107bc99ebd90fd8af954c795\", element=\"cb049a56-df18-4aa0-86a2-1f2ccd551f35\")>,\n",
       " <selenium.webdriver.remote.webelement.WebElement (session=\"363f78f1107bc99ebd90fd8af954c795\", element=\"5b059536-2359-404c-861c-858a4695da86\")>,\n",
       " <selenium.webdriver.remote.webelement.WebElement (session=\"363f78f1107bc99ebd90fd8af954c795\", element=\"53577a36-e319-4c67-a533-fa75c2c4a2d3\")>,\n",
       " <selenium.webdriver.remote.webelement.WebElement (session=\"363f78f1107bc99ebd90fd8af954c795\", element=\"dfaf1dc2-f7f8-4b8a-820a-3ec7a76e5d8d\")>,\n",
       " <selenium.webdriver.remote.webelement.WebElement (session=\"363f78f1107bc99ebd90fd8af954c795\", element=\"187efbbc-646e-41c6-b79e-85735173b80d\")>]"
      ]
     },
     "execution_count": 59,
     "metadata": {},
     "output_type": "execute_result"
    }
   ],
   "source": [
    "url=driver.find_elements(By.XPATH,'//a[@class=\"_1fQZEK\"]')\n",
    "url[0:5]"
   ]
  },
  {
   "cell_type": "code",
   "execution_count": 60,
   "id": "2f1c1cd8",
   "metadata": {},
   "outputs": [
    {
     "name": "stdout",
     "output_type": "stream",
     "text": [
      "https://www.flipkart.com/apple-iphone-11-white-128-gb/p/itme32df47ea6742?pid=MOBFWQ6B7KKRXDDS&lid=LSTMOBFWQ6B7KKRXDDSUPVRTR&marketplace=FLIPKART&q=Iphone11&store=tyy%2F4io&srno=s_1_1&otracker=search&otracker1=search&fm=organic&iid=6673dba3-caf2-4595-a019-b4de88414870.MOBFWQ6B7KKRXDDS.SEARCH&ppt=hp&ppn=homepage&ssid=qfgizstwlc0000001661066349522&qH=6d60e39954c2077c\n",
      "https://www.flipkart.com/apple-iphone-11-black-128-gb/p/itm8244e8d955aba?pid=MOBFWQ6BKRYBP5X8&lid=LSTMOBFWQ6BKRYBP5X8HS0EXP&marketplace=FLIPKART&q=Iphone11&store=tyy%2F4io&srno=s_1_2&otracker=search&otracker1=search&fm=organic&iid=6673dba3-caf2-4595-a019-b4de88414870.MOBFWQ6BKRYBP5X8.SEARCH&ppt=hp&ppn=homepage&ssid=qfgizstwlc0000001661066349522&qH=6d60e39954c2077c\n",
      "https://www.flipkart.com/apple-iphone-11-purple-128-gb/p/itmb7ca0b05522ff?pid=MOBFWQ6BEHFXGXGB&lid=LSTMOBFWQ6BEHFXGXGBIS2J2K&marketplace=FLIPKART&q=Iphone11&store=tyy%2F4io&srno=s_1_3&otracker=search&otracker1=search&fm=organic&iid=6673dba3-caf2-4595-a019-b4de88414870.MOBFWQ6BEHFXGXGB.SEARCH&ppt=hp&ppn=homepage&ssid=qfgizstwlc0000001661066349522&qH=6d60e39954c2077c\n",
      "https://www.flipkart.com/apple-iphone-11-white-64-gb/p/itmfc6a7091eb20b?pid=MOBFWQ6BVWVEH3XE&lid=LSTMOBFWQ6BVWVEH3XEMXQMLO&marketplace=FLIPKART&q=Iphone11&store=tyy%2F4io&srno=s_1_4&otracker=search&otracker1=search&fm=organic&iid=6673dba3-caf2-4595-a019-b4de88414870.MOBFWQ6BVWVEH3XE.SEARCH&ppt=hp&ppn=homepage&ssid=qfgizstwlc0000001661066349522&qH=6d60e39954c2077c\n",
      "https://www.flipkart.com/apple-iphone-11-green-64-gb/p/itm386a85013a3d1?pid=MOBFWQ6BHPMG29QM&lid=LSTMOBFWQ6BHPMG29QMKXJSSF&marketplace=FLIPKART&q=Iphone11&store=tyy%2F4io&srno=s_1_5&otracker=search&otracker1=search&fm=organic&iid=6673dba3-caf2-4595-a019-b4de88414870.MOBFWQ6BHPMG29QM.SEARCH&ppt=hp&ppn=homepage&ssid=qfgizstwlc0000001661066349522&qH=6d60e39954c2077c\n"
     ]
    }
   ],
   "source": [
    "for i in url[0:5]:\n",
    "    print(i.get_attribute(\"href\"))"
   ]
  },
  {
   "cell_type": "code",
   "execution_count": 61,
   "id": "34fa37ee",
   "metadata": {},
   "outputs": [],
   "source": [
    "ratng=[]\n",
    "rvw_smry=[]\n",
    "full_rvw=[]"
   ]
  },
  {
   "cell_type": "code",
   "execution_count": 62,
   "id": "14cab1e3",
   "metadata": {},
   "outputs": [],
   "source": [
    "start=0\n",
    "end=5\n",
    "for page in range(start,end):\n",
    "    titles=driver.find_elements(By.XPATH,'//div[@class=\"_3LWZlK\"]')\n",
    "    for i in titles:\n",
    "        ratng.append(i.text)\n",
    "        \n",
    "    summary=driver.find_elements(By.XPATH,'//p[@class=\"_2-N8zT\"]')\n",
    "    for i in summary:\n",
    "        rvw_smry.append(i.text)\n",
    "        \n",
    "    rvw=driver.find_elements(By.XPATH,'//div[@class=\"t-ZTKy\"]')\n",
    "    for i in rvw:\n",
    "        full_rvw.append(i.text)\n",
    "    \n",
    "\n",
    "    next_button=driver.find_element(By.XPATH,'//a[@class=\"_1LKTO3\"]//span')\n",
    "    next_button.click()\n",
    "    time.sleep(3)\n",
    "    "
   ]
  },
  {
   "cell_type": "code",
   "execution_count": 63,
   "id": "58e2a2e3",
   "metadata": {},
   "outputs": [
    {
     "name": "stdout",
     "output_type": "stream",
     "text": [
      "120 0 0\n"
     ]
    }
   ],
   "source": [
    "print(len(ratng),len(rvw_smry),len(full_rvw))"
   ]
  },
  {
   "cell_type": "code",
   "execution_count": 70,
   "id": "69d15099",
   "metadata": {
    "scrolled": true
   },
   "outputs": [
    {
     "ename": "ValueError",
     "evalue": "All arrays must be of the same length",
     "output_type": "error",
     "traceback": [
      "\u001b[1;31m---------------------------------------------------------------------------\u001b[0m",
      "\u001b[1;31mValueError\u001b[0m                                Traceback (most recent call last)",
      "\u001b[1;32m~\\AppData\\Local\\Temp/ipykernel_11332/73757832.py\u001b[0m in \u001b[0;36m<module>\u001b[1;34m\u001b[0m\n\u001b[1;32m----> 1\u001b[1;33m \u001b[0mdf\u001b[0m\u001b[1;33m=\u001b[0m\u001b[0mpd\u001b[0m\u001b[1;33m.\u001b[0m\u001b[0mDataFrame\u001b[0m\u001b[1;33m(\u001b[0m\u001b[1;33m{\u001b[0m\u001b[1;34m'Rating'\u001b[0m\u001b[1;33m:\u001b[0m\u001b[0mratng\u001b[0m\u001b[1;33m,\u001b[0m\u001b[1;34m'Review_summary'\u001b[0m\u001b[1;33m:\u001b[0m\u001b[0mrvw_smry\u001b[0m\u001b[1;33m,\u001b[0m\u001b[1;34m'Full_review'\u001b[0m\u001b[1;33m:\u001b[0m\u001b[0mfull_rvw\u001b[0m\u001b[1;33m}\u001b[0m\u001b[1;33m)\u001b[0m\u001b[1;33m\u001b[0m\u001b[1;33m\u001b[0m\u001b[0m\n\u001b[0m\u001b[0;32m      2\u001b[0m \u001b[0mdf\u001b[0m\u001b[1;33m\u001b[0m\u001b[1;33m\u001b[0m\u001b[0m\n",
      "\u001b[1;32m~\\anaconda3\\lib\\site-packages\\pandas\\core\\frame.py\u001b[0m in \u001b[0;36m__init__\u001b[1;34m(self, data, index, columns, dtype, copy)\u001b[0m\n\u001b[0;32m    612\u001b[0m         \u001b[1;32melif\u001b[0m \u001b[0misinstance\u001b[0m\u001b[1;33m(\u001b[0m\u001b[0mdata\u001b[0m\u001b[1;33m,\u001b[0m \u001b[0mdict\u001b[0m\u001b[1;33m)\u001b[0m\u001b[1;33m:\u001b[0m\u001b[1;33m\u001b[0m\u001b[1;33m\u001b[0m\u001b[0m\n\u001b[0;32m    613\u001b[0m             \u001b[1;31m# GH#38939 de facto copy defaults to False only in non-dict cases\u001b[0m\u001b[1;33m\u001b[0m\u001b[1;33m\u001b[0m\u001b[0m\n\u001b[1;32m--> 614\u001b[1;33m             \u001b[0mmgr\u001b[0m \u001b[1;33m=\u001b[0m \u001b[0mdict_to_mgr\u001b[0m\u001b[1;33m(\u001b[0m\u001b[0mdata\u001b[0m\u001b[1;33m,\u001b[0m \u001b[0mindex\u001b[0m\u001b[1;33m,\u001b[0m \u001b[0mcolumns\u001b[0m\u001b[1;33m,\u001b[0m \u001b[0mdtype\u001b[0m\u001b[1;33m=\u001b[0m\u001b[0mdtype\u001b[0m\u001b[1;33m,\u001b[0m \u001b[0mcopy\u001b[0m\u001b[1;33m=\u001b[0m\u001b[0mcopy\u001b[0m\u001b[1;33m,\u001b[0m \u001b[0mtyp\u001b[0m\u001b[1;33m=\u001b[0m\u001b[0mmanager\u001b[0m\u001b[1;33m)\u001b[0m\u001b[1;33m\u001b[0m\u001b[1;33m\u001b[0m\u001b[0m\n\u001b[0m\u001b[0;32m    615\u001b[0m         \u001b[1;32melif\u001b[0m \u001b[0misinstance\u001b[0m\u001b[1;33m(\u001b[0m\u001b[0mdata\u001b[0m\u001b[1;33m,\u001b[0m \u001b[0mma\u001b[0m\u001b[1;33m.\u001b[0m\u001b[0mMaskedArray\u001b[0m\u001b[1;33m)\u001b[0m\u001b[1;33m:\u001b[0m\u001b[1;33m\u001b[0m\u001b[1;33m\u001b[0m\u001b[0m\n\u001b[0;32m    616\u001b[0m             \u001b[1;32mimport\u001b[0m \u001b[0mnumpy\u001b[0m\u001b[1;33m.\u001b[0m\u001b[0mma\u001b[0m\u001b[1;33m.\u001b[0m\u001b[0mmrecords\u001b[0m \u001b[1;32mas\u001b[0m \u001b[0mmrecords\u001b[0m\u001b[1;33m\u001b[0m\u001b[1;33m\u001b[0m\u001b[0m\n",
      "\u001b[1;32m~\\anaconda3\\lib\\site-packages\\pandas\\core\\internals\\construction.py\u001b[0m in \u001b[0;36mdict_to_mgr\u001b[1;34m(data, index, columns, dtype, typ, copy)\u001b[0m\n\u001b[0;32m    460\u001b[0m         \u001b[1;31m# TODO: can we get rid of the dt64tz special case above?\u001b[0m\u001b[1;33m\u001b[0m\u001b[1;33m\u001b[0m\u001b[0m\n\u001b[0;32m    461\u001b[0m \u001b[1;33m\u001b[0m\u001b[0m\n\u001b[1;32m--> 462\u001b[1;33m     return arrays_to_mgr(\n\u001b[0m\u001b[0;32m    463\u001b[0m         \u001b[0marrays\u001b[0m\u001b[1;33m,\u001b[0m \u001b[0mdata_names\u001b[0m\u001b[1;33m,\u001b[0m \u001b[0mindex\u001b[0m\u001b[1;33m,\u001b[0m \u001b[0mcolumns\u001b[0m\u001b[1;33m,\u001b[0m \u001b[0mdtype\u001b[0m\u001b[1;33m=\u001b[0m\u001b[0mdtype\u001b[0m\u001b[1;33m,\u001b[0m \u001b[0mtyp\u001b[0m\u001b[1;33m=\u001b[0m\u001b[0mtyp\u001b[0m\u001b[1;33m,\u001b[0m \u001b[0mconsolidate\u001b[0m\u001b[1;33m=\u001b[0m\u001b[0mcopy\u001b[0m\u001b[1;33m\u001b[0m\u001b[1;33m\u001b[0m\u001b[0m\n\u001b[0;32m    464\u001b[0m     )\n",
      "\u001b[1;32m~\\anaconda3\\lib\\site-packages\\pandas\\core\\internals\\construction.py\u001b[0m in \u001b[0;36marrays_to_mgr\u001b[1;34m(arrays, arr_names, index, columns, dtype, verify_integrity, typ, consolidate)\u001b[0m\n\u001b[0;32m    115\u001b[0m         \u001b[1;31m# figure out the index, if necessary\u001b[0m\u001b[1;33m\u001b[0m\u001b[1;33m\u001b[0m\u001b[0m\n\u001b[0;32m    116\u001b[0m         \u001b[1;32mif\u001b[0m \u001b[0mindex\u001b[0m \u001b[1;32mis\u001b[0m \u001b[1;32mNone\u001b[0m\u001b[1;33m:\u001b[0m\u001b[1;33m\u001b[0m\u001b[1;33m\u001b[0m\u001b[0m\n\u001b[1;32m--> 117\u001b[1;33m             \u001b[0mindex\u001b[0m \u001b[1;33m=\u001b[0m \u001b[0m_extract_index\u001b[0m\u001b[1;33m(\u001b[0m\u001b[0marrays\u001b[0m\u001b[1;33m)\u001b[0m\u001b[1;33m\u001b[0m\u001b[1;33m\u001b[0m\u001b[0m\n\u001b[0m\u001b[0;32m    118\u001b[0m         \u001b[1;32melse\u001b[0m\u001b[1;33m:\u001b[0m\u001b[1;33m\u001b[0m\u001b[1;33m\u001b[0m\u001b[0m\n\u001b[0;32m    119\u001b[0m             \u001b[0mindex\u001b[0m \u001b[1;33m=\u001b[0m \u001b[0mensure_index\u001b[0m\u001b[1;33m(\u001b[0m\u001b[0mindex\u001b[0m\u001b[1;33m)\u001b[0m\u001b[1;33m\u001b[0m\u001b[1;33m\u001b[0m\u001b[0m\n",
      "\u001b[1;32m~\\anaconda3\\lib\\site-packages\\pandas\\core\\internals\\construction.py\u001b[0m in \u001b[0;36m_extract_index\u001b[1;34m(data)\u001b[0m\n\u001b[0;32m    621\u001b[0m             \u001b[0mlengths\u001b[0m \u001b[1;33m=\u001b[0m \u001b[0mlist\u001b[0m\u001b[1;33m(\u001b[0m\u001b[0mset\u001b[0m\u001b[1;33m(\u001b[0m\u001b[0mraw_lengths\u001b[0m\u001b[1;33m)\u001b[0m\u001b[1;33m)\u001b[0m\u001b[1;33m\u001b[0m\u001b[1;33m\u001b[0m\u001b[0m\n\u001b[0;32m    622\u001b[0m             \u001b[1;32mif\u001b[0m \u001b[0mlen\u001b[0m\u001b[1;33m(\u001b[0m\u001b[0mlengths\u001b[0m\u001b[1;33m)\u001b[0m \u001b[1;33m>\u001b[0m \u001b[1;36m1\u001b[0m\u001b[1;33m:\u001b[0m\u001b[1;33m\u001b[0m\u001b[1;33m\u001b[0m\u001b[0m\n\u001b[1;32m--> 623\u001b[1;33m                 \u001b[1;32mraise\u001b[0m \u001b[0mValueError\u001b[0m\u001b[1;33m(\u001b[0m\u001b[1;34m\"All arrays must be of the same length\"\u001b[0m\u001b[1;33m)\u001b[0m\u001b[1;33m\u001b[0m\u001b[1;33m\u001b[0m\u001b[0m\n\u001b[0m\u001b[0;32m    624\u001b[0m \u001b[1;33m\u001b[0m\u001b[0m\n\u001b[0;32m    625\u001b[0m             \u001b[1;32mif\u001b[0m \u001b[0mhave_dicts\u001b[0m\u001b[1;33m:\u001b[0m\u001b[1;33m\u001b[0m\u001b[1;33m\u001b[0m\u001b[0m\n",
      "\u001b[1;31mValueError\u001b[0m: All arrays must be of the same length"
     ]
    }
   ],
   "source": [
    "df=pd.DataFrame({'Rating':ratng,'Review_summary':rvw_smry,'Full_review':full_rvw})\n",
    "df"
   ]
  },
  {
   "cell_type": "markdown",
   "id": "90fc0e28",
   "metadata": {},
   "source": [
    "Q6: Scrape data for first 100 sneakers you find when you visit flipkart.com and search for “sneakers” in the \n",
    "search field.\n",
    "You have to scrape 4 attributes of each sneaker:\n",
    "1. Brand\n",
    "2. Product Description\n",
    "3. Price\n",
    "As shown in the below image, you have to scrape the tick ma"
   ]
  },
  {
   "cell_type": "code",
   "execution_count": 73,
   "id": "5a734353",
   "metadata": {},
   "outputs": [],
   "source": [
    "driver.get(\"http://www.flipkart.com/\")"
   ]
  },
  {
   "cell_type": "code",
   "execution_count": 74,
   "id": "8f8e08e8",
   "metadata": {},
   "outputs": [],
   "source": [
    "brand=driver.find_element(By.CLASS_NAME,\"_3704LK \")\n",
    "brand.send_keys('Sneakers')"
   ]
  },
  {
   "cell_type": "code",
   "execution_count": 75,
   "id": "6c89a4c6",
   "metadata": {},
   "outputs": [],
   "source": [
    "search=driver.find_element(By.CLASS_NAME,\"L0Z3Pu\")\n",
    "search.click()"
   ]
  },
  {
   "cell_type": "code",
   "execution_count": 82,
   "id": "4c2e2250",
   "metadata": {},
   "outputs": [
    {
     "data": {
      "text/plain": [
       "[<selenium.webdriver.remote.webelement.WebElement (session=\"363f78f1107bc99ebd90fd8af954c795\", element=\"c1dbbafd-e122-4f41-8a16-7afe0f554205\")>,\n",
       " <selenium.webdriver.remote.webelement.WebElement (session=\"363f78f1107bc99ebd90fd8af954c795\", element=\"03458246-66fb-410e-91a2-f58d30731db1\")>,\n",
       " <selenium.webdriver.remote.webelement.WebElement (session=\"363f78f1107bc99ebd90fd8af954c795\", element=\"8fe1bf51-4981-434c-a0cd-5ee944776dc6\")>]"
      ]
     },
     "execution_count": 82,
     "metadata": {},
     "output_type": "execute_result"
    }
   ],
   "source": [
    "url=driver.find_elements(By.XPATH,'//a[@class=\"_2UzuFa\"]')\n",
    "url[0:3]"
   ]
  },
  {
   "cell_type": "code",
   "execution_count": 83,
   "id": "42b524d2",
   "metadata": {},
   "outputs": [
    {
     "name": "stdout",
     "output_type": "stream",
     "text": [
      "https://www.flipkart.com/bruton-2-combo-sneaker-shoes-sneakers-men/p/itm3cc36bd6ace90?pid=SHOGFUYVZQSBCQB2&lid=LSTSHOGFUYVZQSBCQB20Z7RBR&marketplace=FLIPKART&q=Sneakers&store=osp&srno=s_1_1&otracker=search&otracker1=search&fm=Search&iid=en_9EWTNtnbq3RtValQGostj%2FcIdrxAL5Rh0xeFXf4JzcHcDfswbXeW03IOpw4cT8tSL1MdMOuV1Mo3BN4DIuvznQ%3D%3D&ppt=sp&ppn=sp&ssid=pna8uged400000001661079717553&qH=ea24260ef5764089\n",
      "https://www.flipkart.com/bruton-modern-trendy-sneakers-shoes-men/p/itm76d039b1e0a19?pid=SHOGEXXSFA8GNN5W&lid=LSTSHOGEXXSFA8GNN5WAMR6AY&marketplace=FLIPKART&q=Sneakers&store=osp&srno=s_1_2&otracker=search&otracker1=search&fm=Search&iid=en_9EWTNtnbq3RtValQGostj%2FcIdrxAL5Rh0xeFXf4JzcFxLRBQGr2min7sQWCNtHhRlJ55JHiINzTFY3qpIVmzCA%3D%3D&ppt=sp&ppn=sp&ssid=pna8uged400000001661079717553&qH=ea24260ef5764089\n",
      "https://www.flipkart.com/puma-rebound-joy-sneakers-men/p/itm616f0cfb0fc23?pid=SHOFZFG5FH9U3C88&lid=LSTSHOFZFG5FH9U3C888G7GKR&marketplace=FLIPKART&q=Sneakers&store=osp&srno=s_1_3&otracker=search&otracker1=search&fm=Search&iid=3241b788-f8c4-4380-9d1d-1bd4ddbcbf87.SHOFZFG5FH9U3C88.SEARCH&ppt=sp&ppn=sp&ssid=pna8uged400000001661079717553&qH=ea24260ef5764089\n"
     ]
    }
   ],
   "source": [
    "for i in url[0:3]:\n",
    "    print(i.get_attribute(\"href\"))"
   ]
  },
  {
   "cell_type": "code",
   "execution_count": 84,
   "id": "114f2a9a",
   "metadata": {},
   "outputs": [],
   "source": [
    "brand=[]\n",
    "product_description=[]\n",
    "price=[]\n",
    "discount_percentage=[]"
   ]
  },
  {
   "cell_type": "code",
   "execution_count": 89,
   "id": "320d5417",
   "metadata": {},
   "outputs": [],
   "source": [
    "star=0\n",
    "end=3\n",
    "for page in range(start,end):\n",
    "    brnd=driver.find_elements(By.XPATH,'//div[@class=\"_2WkVRV\"]')\n",
    "    for i in brnd:\n",
    "        brand.append(i.text)\n",
    "        \n",
    "    product=driver.find_elements(By.XPATH,'//a[@class=\"IRpwTa\"]')\n",
    "    for i in product:\n",
    "        product_description.append(i.text)\n",
    "        \n",
    "    element=driver.find_elements(By.XPATH,'//div[@class=\"_30jeq3\"]')\n",
    "    for i in element:\n",
    "        price.append(i.text)\n",
    "        \n",
    "        \n",
    "    discount=driver.find_elements(By.XPATH,'//div[@class=\"_3Ay6Sb\"]//span')\n",
    "    for i in discount:\n",
    "        discount_percentage.append(i.text)\n",
    "        \n",
    "        \n",
    "    next_button=driver.find_element(By.XPATH,'//a[@class=\"_1LKTO3\"]//span')\n",
    "    next_button.click()\n",
    "    time.sleep(3)\n",
    "     \n",
    "        \n",
    "    "
   ]
  },
  {
   "cell_type": "code",
   "execution_count": 90,
   "id": "813612cb",
   "metadata": {},
   "outputs": [
    {
     "name": "stdout",
     "output_type": "stream",
     "text": [
      "120 120 120 120\n"
     ]
    }
   ],
   "source": [
    "print(len(brand),len(product_description),len(price),len(discount_percentage))"
   ]
  },
  {
   "cell_type": "code",
   "execution_count": 91,
   "id": "2b0f5e82",
   "metadata": {},
   "outputs": [],
   "source": [
    "Brand=brand[0:100]\n",
    "Product_description=product_description[0:100]\n",
    "Price=price[0:100]\n",
    "Discount_percentage=discount_percentage[0:100]"
   ]
  },
  {
   "cell_type": "code",
   "execution_count": 93,
   "id": "61630882",
   "metadata": {},
   "outputs": [
    {
     "data": {
      "text/plain": [
       "100"
      ]
     },
     "execution_count": 93,
     "metadata": {},
     "output_type": "execute_result"
    }
   ],
   "source": [
    "len(Product_description)"
   ]
  },
  {
   "cell_type": "code",
   "execution_count": 95,
   "id": "cbff21ee",
   "metadata": {},
   "outputs": [
    {
     "name": "stdout",
     "output_type": "stream",
     "text": [
      "120 120 120 120\n"
     ]
    }
   ],
   "source": [
    "print(len(rand),len(product_description),len(price),len(discount_percentage))"
   ]
  },
  {
   "cell_type": "code",
   "execution_count": 96,
   "id": "052ab2da",
   "metadata": {},
   "outputs": [
    {
     "data": {
      "text/html": [
       "<div>\n",
       "<style scoped>\n",
       "    .dataframe tbody tr th:only-of-type {\n",
       "        vertical-align: middle;\n",
       "    }\n",
       "\n",
       "    .dataframe tbody tr th {\n",
       "        vertical-align: top;\n",
       "    }\n",
       "\n",
       "    .dataframe thead th {\n",
       "        text-align: right;\n",
       "    }\n",
       "</style>\n",
       "<table border=\"1\" class=\"dataframe\">\n",
       "  <thead>\n",
       "    <tr style=\"text-align: right;\">\n",
       "      <th></th>\n",
       "      <th>Brand</th>\n",
       "      <th>Product_description</th>\n",
       "      <th>Price</th>\n",
       "      <th>Discount_percentage</th>\n",
       "    </tr>\n",
       "  </thead>\n",
       "  <tbody>\n",
       "    <tr>\n",
       "      <th>0</th>\n",
       "      <td>BRUTON</td>\n",
       "      <td>2 Combo Sneaker Shoes Sneakers For Men</td>\n",
       "      <td>₹596</td>\n",
       "      <td>76% off</td>\n",
       "    </tr>\n",
       "    <tr>\n",
       "      <th>1</th>\n",
       "      <td>BRUTON</td>\n",
       "      <td>Modern Trendy Sneakers Shoes Sneakers For Men</td>\n",
       "      <td>₹399</td>\n",
       "      <td>69% off</td>\n",
       "    </tr>\n",
       "    <tr>\n",
       "      <th>2</th>\n",
       "      <td>PUMA</td>\n",
       "      <td>Rebound JOY Sneakers For Men</td>\n",
       "      <td>₹2,217</td>\n",
       "      <td>59% off</td>\n",
       "    </tr>\n",
       "    <tr>\n",
       "      <th>3</th>\n",
       "      <td>Magnolia</td>\n",
       "      <td>Sneakers For Men</td>\n",
       "      <td>₹374</td>\n",
       "      <td>62% off</td>\n",
       "    </tr>\n",
       "    <tr>\n",
       "      <th>4</th>\n",
       "      <td>Labbin</td>\n",
       "      <td>Sneakers For Men</td>\n",
       "      <td>₹499</td>\n",
       "      <td>50% off</td>\n",
       "    </tr>\n",
       "    <tr>\n",
       "      <th>...</th>\n",
       "      <td>...</td>\n",
       "      <td>...</td>\n",
       "      <td>...</td>\n",
       "      <td>...</td>\n",
       "    </tr>\n",
       "    <tr>\n",
       "      <th>95</th>\n",
       "      <td>DUCATI</td>\n",
       "      <td>Sneakers For Men</td>\n",
       "      <td>₹1,329</td>\n",
       "      <td>69% off</td>\n",
       "    </tr>\n",
       "    <tr>\n",
       "      <th>96</th>\n",
       "      <td>Magnolia</td>\n",
       "      <td>Sneakers For Men</td>\n",
       "      <td>₹399</td>\n",
       "      <td>60% off</td>\n",
       "    </tr>\n",
       "    <tr>\n",
       "      <th>97</th>\n",
       "      <td>Shozie</td>\n",
       "      <td>Stylish Walking Partywear Sneakers Casual Shoe...</td>\n",
       "      <td>₹489</td>\n",
       "      <td>51% off</td>\n",
       "    </tr>\n",
       "    <tr>\n",
       "      <th>98</th>\n",
       "      <td>PUMA</td>\n",
       "      <td>Smash Wns v2 Z Sneakers For Women</td>\n",
       "      <td>₹1,542</td>\n",
       "      <td>55% off</td>\n",
       "    </tr>\n",
       "    <tr>\n",
       "      <th>99</th>\n",
       "      <td>BRUTON</td>\n",
       "      <td>2 Combo Sneaker Shoes Sneakers For Men</td>\n",
       "      <td>₹596</td>\n",
       "      <td>76% off</td>\n",
       "    </tr>\n",
       "  </tbody>\n",
       "</table>\n",
       "<p>100 rows × 4 columns</p>\n",
       "</div>"
      ],
      "text/plain": [
       "       Brand                                Product_description   Price  \\\n",
       "0     BRUTON             2 Combo Sneaker Shoes Sneakers For Men    ₹596   \n",
       "1     BRUTON      Modern Trendy Sneakers Shoes Sneakers For Men    ₹399   \n",
       "2       PUMA                       Rebound JOY Sneakers For Men  ₹2,217   \n",
       "3   Magnolia                                   Sneakers For Men    ₹374   \n",
       "4     Labbin                                   Sneakers For Men    ₹499   \n",
       "..       ...                                                ...     ...   \n",
       "95    DUCATI                                   Sneakers For Men  ₹1,329   \n",
       "96  Magnolia                                   Sneakers For Men    ₹399   \n",
       "97    Shozie  Stylish Walking Partywear Sneakers Casual Shoe...    ₹489   \n",
       "98      PUMA                  Smash Wns v2 Z Sneakers For Women  ₹1,542   \n",
       "99    BRUTON             2 Combo Sneaker Shoes Sneakers For Men    ₹596   \n",
       "\n",
       "   Discount_percentage  \n",
       "0              76% off  \n",
       "1              69% off  \n",
       "2              59% off  \n",
       "3              62% off  \n",
       "4              50% off  \n",
       "..                 ...  \n",
       "95             69% off  \n",
       "96             60% off  \n",
       "97             51% off  \n",
       "98             55% off  \n",
       "99             76% off  \n",
       "\n",
       "[100 rows x 4 columns]"
      ]
     },
     "execution_count": 96,
     "metadata": {},
     "output_type": "execute_result"
    }
   ],
   "source": [
    "df=pd.DataFrame({'Brand':Brand,'Product_description':Product_description,'Price':Price,'Discount_percentage':Discount_percentage})\n",
    "df"
   ]
  },
  {
   "cell_type": "markdown",
   "id": "aadf214e",
   "metadata": {},
   "source": [
    "Q7. Set second Price filter and Color filter to “Black”, as shown in the below image."
   ]
  },
  {
   "cell_type": "markdown",
   "id": "c2e9a611",
   "metadata": {},
   "source": [
    "Q8.Enter “Laptop” in the search field and then click the search icon.\n",
    "Then set CPU Type filter to “Intel Core i7”\n",
    "Title\n",
    "2. Ratings\n",
    "3. Price\n"
   ]
  },
  {
   "cell_type": "code",
   "execution_count": 98,
   "id": "c8be3ee0",
   "metadata": {},
   "outputs": [],
   "source": [
    "driver.get(\"http://www.amazon.in/\")"
   ]
  },
  {
   "cell_type": "code",
   "execution_count": 108,
   "id": "3f059a76",
   "metadata": {},
   "outputs": [
    {
     "ename": "NoSuchElementException",
     "evalue": "Message: no such element: Unable to locate element: {\"method\":\"css selector\",\"selector\":\".nav-fill\"}\n  (Session info: chrome=104.0.5112.101)\nStacktrace:\nBacktrace:\n\tOrdinal0 [0x00DB78B3+2193587]\n\tOrdinal0 [0x00D50681+1771137]\n\tOrdinal0 [0x00C641A8+803240]\n\tOrdinal0 [0x00C924A0+992416]\n\tOrdinal0 [0x00C9273B+993083]\n\tOrdinal0 [0x00CBF7C2+1177538]\n\tOrdinal0 [0x00CAD7F4+1103860]\n\tOrdinal0 [0x00CBDAE2+1170146]\n\tOrdinal0 [0x00CAD5C6+1103302]\n\tOrdinal0 [0x00C877E0+948192]\n\tOrdinal0 [0x00C886E6+952038]\n\tGetHandleVerifier [0x01060CB2+2738370]\n\tGetHandleVerifier [0x010521B8+2678216]\n\tGetHandleVerifier [0x00E417AA+512954]\n\tGetHandleVerifier [0x00E40856+509030]\n\tOrdinal0 [0x00D5743B+1799227]\n\tOrdinal0 [0x00D5BB68+1817448]\n\tOrdinal0 [0x00D5BC55+1817685]\n\tOrdinal0 [0x00D65230+1856048]\n\tBaseThreadInitThunk [0x76F0FA29+25]\n\tRtlGetAppContainerNamedObjectPath [0x77747A9E+286]\n\tRtlGetAppContainerNamedObjectPath [0x77747A6E+238]\n",
     "output_type": "error",
     "traceback": [
      "\u001b[1;31m---------------------------------------------------------------------------\u001b[0m",
      "\u001b[1;31mNoSuchElementException\u001b[0m                    Traceback (most recent call last)",
      "\u001b[1;32m~\\AppData\\Local\\Temp/ipykernel_11332/2018938031.py\u001b[0m in \u001b[0;36m<module>\u001b[1;34m\u001b[0m\n\u001b[1;32m----> 1\u001b[1;33m \u001b[0melement\u001b[0m\u001b[1;33m=\u001b[0m\u001b[0mdriver\u001b[0m\u001b[1;33m.\u001b[0m\u001b[0mfind_element\u001b[0m\u001b[1;33m(\u001b[0m\u001b[0mBy\u001b[0m\u001b[1;33m.\u001b[0m\u001b[0mCLASS_NAME\u001b[0m\u001b[1;33m,\u001b[0m\u001b[1;34m\"nav-fill\"\u001b[0m\u001b[1;33m)\u001b[0m\u001b[1;33m\u001b[0m\u001b[1;33m\u001b[0m\u001b[0m\n\u001b[0m\u001b[0;32m      2\u001b[0m \u001b[0melement\u001b[0m\u001b[1;33m.\u001b[0m\u001b[0msend_keys\u001b[0m\u001b[1;33m(\u001b[0m\u001b[1;34m'Laptop'\u001b[0m\u001b[1;33m)\u001b[0m\u001b[1;33m\u001b[0m\u001b[1;33m\u001b[0m\u001b[0m\n",
      "\u001b[1;32m~\\anaconda3\\lib\\site-packages\\selenium\\webdriver\\remote\\webdriver.py\u001b[0m in \u001b[0;36mfind_element\u001b[1;34m(self, by, value)\u001b[0m\n\u001b[0;32m    854\u001b[0m             \u001b[0mvalue\u001b[0m \u001b[1;33m=\u001b[0m \u001b[1;34m'[name=\"%s\"]'\u001b[0m \u001b[1;33m%\u001b[0m \u001b[0mvalue\u001b[0m\u001b[1;33m\u001b[0m\u001b[1;33m\u001b[0m\u001b[0m\n\u001b[0;32m    855\u001b[0m \u001b[1;33m\u001b[0m\u001b[0m\n\u001b[1;32m--> 856\u001b[1;33m         return self.execute(Command.FIND_ELEMENT, {\n\u001b[0m\u001b[0;32m    857\u001b[0m             \u001b[1;34m'using'\u001b[0m\u001b[1;33m:\u001b[0m \u001b[0mby\u001b[0m\u001b[1;33m,\u001b[0m\u001b[1;33m\u001b[0m\u001b[1;33m\u001b[0m\u001b[0m\n\u001b[0;32m    858\u001b[0m             'value': value})['value']\n",
      "\u001b[1;32m~\\anaconda3\\lib\\site-packages\\selenium\\webdriver\\remote\\webdriver.py\u001b[0m in \u001b[0;36mexecute\u001b[1;34m(self, driver_command, params)\u001b[0m\n\u001b[0;32m    432\u001b[0m         \u001b[0mresponse\u001b[0m \u001b[1;33m=\u001b[0m \u001b[0mself\u001b[0m\u001b[1;33m.\u001b[0m\u001b[0mcommand_executor\u001b[0m\u001b[1;33m.\u001b[0m\u001b[0mexecute\u001b[0m\u001b[1;33m(\u001b[0m\u001b[0mdriver_command\u001b[0m\u001b[1;33m,\u001b[0m \u001b[0mparams\u001b[0m\u001b[1;33m)\u001b[0m\u001b[1;33m\u001b[0m\u001b[1;33m\u001b[0m\u001b[0m\n\u001b[0;32m    433\u001b[0m         \u001b[1;32mif\u001b[0m \u001b[0mresponse\u001b[0m\u001b[1;33m:\u001b[0m\u001b[1;33m\u001b[0m\u001b[1;33m\u001b[0m\u001b[0m\n\u001b[1;32m--> 434\u001b[1;33m             \u001b[0mself\u001b[0m\u001b[1;33m.\u001b[0m\u001b[0merror_handler\u001b[0m\u001b[1;33m.\u001b[0m\u001b[0mcheck_response\u001b[0m\u001b[1;33m(\u001b[0m\u001b[0mresponse\u001b[0m\u001b[1;33m)\u001b[0m\u001b[1;33m\u001b[0m\u001b[1;33m\u001b[0m\u001b[0m\n\u001b[0m\u001b[0;32m    435\u001b[0m             response['value'] = self._unwrap_value(\n\u001b[0;32m    436\u001b[0m                 response.get('value', None))\n",
      "\u001b[1;32m~\\anaconda3\\lib\\site-packages\\selenium\\webdriver\\remote\\errorhandler.py\u001b[0m in \u001b[0;36mcheck_response\u001b[1;34m(self, response)\u001b[0m\n\u001b[0;32m    241\u001b[0m                 \u001b[0malert_text\u001b[0m \u001b[1;33m=\u001b[0m \u001b[0mvalue\u001b[0m\u001b[1;33m[\u001b[0m\u001b[1;34m'alert'\u001b[0m\u001b[1;33m]\u001b[0m\u001b[1;33m.\u001b[0m\u001b[0mget\u001b[0m\u001b[1;33m(\u001b[0m\u001b[1;34m'text'\u001b[0m\u001b[1;33m)\u001b[0m\u001b[1;33m\u001b[0m\u001b[1;33m\u001b[0m\u001b[0m\n\u001b[0;32m    242\u001b[0m             \u001b[1;32mraise\u001b[0m \u001b[0mexception_class\u001b[0m\u001b[1;33m(\u001b[0m\u001b[0mmessage\u001b[0m\u001b[1;33m,\u001b[0m \u001b[0mscreen\u001b[0m\u001b[1;33m,\u001b[0m \u001b[0mstacktrace\u001b[0m\u001b[1;33m,\u001b[0m \u001b[0malert_text\u001b[0m\u001b[1;33m)\u001b[0m  \u001b[1;31m# type: ignore[call-arg]  # mypy is not smart enough here\u001b[0m\u001b[1;33m\u001b[0m\u001b[1;33m\u001b[0m\u001b[0m\n\u001b[1;32m--> 243\u001b[1;33m         \u001b[1;32mraise\u001b[0m \u001b[0mexception_class\u001b[0m\u001b[1;33m(\u001b[0m\u001b[0mmessage\u001b[0m\u001b[1;33m,\u001b[0m \u001b[0mscreen\u001b[0m\u001b[1;33m,\u001b[0m \u001b[0mstacktrace\u001b[0m\u001b[1;33m)\u001b[0m\u001b[1;33m\u001b[0m\u001b[1;33m\u001b[0m\u001b[0m\n\u001b[0m",
      "\u001b[1;31mNoSuchElementException\u001b[0m: Message: no such element: Unable to locate element: {\"method\":\"css selector\",\"selector\":\".nav-fill\"}\n  (Session info: chrome=104.0.5112.101)\nStacktrace:\nBacktrace:\n\tOrdinal0 [0x00DB78B3+2193587]\n\tOrdinal0 [0x00D50681+1771137]\n\tOrdinal0 [0x00C641A8+803240]\n\tOrdinal0 [0x00C924A0+992416]\n\tOrdinal0 [0x00C9273B+993083]\n\tOrdinal0 [0x00CBF7C2+1177538]\n\tOrdinal0 [0x00CAD7F4+1103860]\n\tOrdinal0 [0x00CBDAE2+1170146]\n\tOrdinal0 [0x00CAD5C6+1103302]\n\tOrdinal0 [0x00C877E0+948192]\n\tOrdinal0 [0x00C886E6+952038]\n\tGetHandleVerifier [0x01060CB2+2738370]\n\tGetHandleVerifier [0x010521B8+2678216]\n\tGetHandleVerifier [0x00E417AA+512954]\n\tGetHandleVerifier [0x00E40856+509030]\n\tOrdinal0 [0x00D5743B+1799227]\n\tOrdinal0 [0x00D5BB68+1817448]\n\tOrdinal0 [0x00D5BC55+1817685]\n\tOrdinal0 [0x00D65230+1856048]\n\tBaseThreadInitThunk [0x76F0FA29+25]\n\tRtlGetAppContainerNamedObjectPath [0x77747A9E+286]\n\tRtlGetAppContainerNamedObjectPath [0x77747A6E+238]\n"
     ]
    }
   ],
   "source": [
    "element=driver.find_element(By.CLASS_NAME,\"nav-fill\")\n",
    "element.send_keys('Laptop')"
   ]
  },
  {
   "cell_type": "markdown",
   "id": "b4a798dc",
   "metadata": {},
   "source": [
    "Q9.a python program to scrape data for first 10 job results for Data Scientist Designation in Noida \n",
    "location. You have to scrape company name, No. of days ago when job was posted, Rating of the company. \n",
    "This task will be done in following steps:\n",
    "1. First get the webpage https://www.ambitionbox.com"
   ]
  },
  {
   "cell_type": "code",
   "execution_count": 167,
   "id": "3f682f3b",
   "metadata": {},
   "outputs": [],
   "source": [
    "driver.get(\" https://www.ambitionbox.com\")"
   ]
  },
  {
   "cell_type": "code",
   "execution_count": 169,
   "id": "8bfd5f61",
   "metadata": {},
   "outputs": [],
   "source": [
    "designation=driver.find_element(By.CLASS_NAME,\"tt-input\")\n",
    "designation.send_keys('Data Scientist')"
   ]
  },
  {
   "cell_type": "code",
   "execution_count": 170,
   "id": "ed7231a2",
   "metadata": {},
   "outputs": [],
   "source": [
    "search=driver.find_element(By.CLASS_NAME,\"ctas-btn-medium\")\n",
    "search.click()"
   ]
  },
  {
   "cell_type": "code",
   "execution_count": 171,
   "id": "9f93addd",
   "metadata": {},
   "outputs": [],
   "source": [
    "company_name=[]\n",
    "No_of_days=[] \n",
    "Rating=[]"
   ]
  },
  {
   "cell_type": "code",
   "execution_count": 111,
   "id": "15589e1e",
   "metadata": {},
   "outputs": [],
   "source": [
    "title_tags=driver.find_elements(By.XPATH,'//a[@class=\"title noclick\"]')\n",
    "for i in title_tags[0:10]:\n",
    "    title=i.text\n",
    "    company_name.append(title)\n",
    "    \n",
    "    \n",
    "location_tags=driver.find_elements(By.XPATH,'//span[@class=\"body-small-l\"]')\n",
    "for i in location_tags[0:10]:\n",
    "    location=i.text\n",
    "    No_of_days.append(location)\n",
    "    \n",
    "    \n",
    "Rating_tags=driver.find_elements(By.XPATH,'//span[@class=\"body-small\"]')\n",
    "for i in Rating_tags[0:10]:\n",
    "    company=i.text\n",
    "    Rating.append(company)\n",
    "    "
   ]
  },
  {
   "cell_type": "code",
   "execution_count": 112,
   "id": "faf25e4e",
   "metadata": {},
   "outputs": [
    {
     "name": "stdout",
     "output_type": "stream",
     "text": [
      "10 10 10\n"
     ]
    }
   ],
   "source": [
    "print(len(company_name),len(No_of_days),len(Rating))"
   ]
  },
  {
   "cell_type": "code",
   "execution_count": 114,
   "id": "deac455c",
   "metadata": {},
   "outputs": [
    {
     "data": {
      "text/html": [
       "<div>\n",
       "<style scoped>\n",
       "    .dataframe tbody tr th:only-of-type {\n",
       "        vertical-align: middle;\n",
       "    }\n",
       "\n",
       "    .dataframe tbody tr th {\n",
       "        vertical-align: top;\n",
       "    }\n",
       "\n",
       "    .dataframe thead th {\n",
       "        text-align: right;\n",
       "    }\n",
       "</style>\n",
       "<table border=\"1\" class=\"dataframe\">\n",
       "  <thead>\n",
       "    <tr style=\"text-align: right;\">\n",
       "      <th></th>\n",
       "      <th>Company_name</th>\n",
       "      <th>Days</th>\n",
       "      <th>Ratings</th>\n",
       "    </tr>\n",
       "  </thead>\n",
       "  <tbody>\n",
       "    <tr>\n",
       "      <th>0</th>\n",
       "      <td>Hiring Data Scientist #productbasecompany #CBRE</td>\n",
       "      <td>10d ago</td>\n",
       "      <td>4.3</td>\n",
       "    </tr>\n",
       "    <tr>\n",
       "      <th>1</th>\n",
       "      <td>Hiring For Genpact-Data Scientist- Forecasting...</td>\n",
       "      <td>via naukri.com</td>\n",
       "      <td>4.0</td>\n",
       "    </tr>\n",
       "    <tr>\n",
       "      <th>2</th>\n",
       "      <td>Genpact - Data Scientist - Forecasting/Python/...</td>\n",
       "      <td>3d ago</td>\n",
       "      <td>4.0</td>\n",
       "    </tr>\n",
       "    <tr>\n",
       "      <th>3</th>\n",
       "      <td>Data Scientist</td>\n",
       "      <td>via naukri.com</td>\n",
       "      <td>4.3</td>\n",
       "    </tr>\n",
       "    <tr>\n",
       "      <th>4</th>\n",
       "      <td>Data Scientist</td>\n",
       "      <td>5d ago</td>\n",
       "      <td>4.0</td>\n",
       "    </tr>\n",
       "    <tr>\n",
       "      <th>5</th>\n",
       "      <td>Data Scientist</td>\n",
       "      <td>via iimjobs.com</td>\n",
       "      <td>4.1</td>\n",
       "    </tr>\n",
       "    <tr>\n",
       "      <th>6</th>\n",
       "      <td>Associate Manager - Data Scientist</td>\n",
       "      <td>20d ago</td>\n",
       "      <td>4.1</td>\n",
       "    </tr>\n",
       "    <tr>\n",
       "      <th>7</th>\n",
       "      <td>Data Scientist</td>\n",
       "      <td>via naukri.com</td>\n",
       "      <td>4.3</td>\n",
       "    </tr>\n",
       "    <tr>\n",
       "      <th>8</th>\n",
       "      <td>Data Scientist</td>\n",
       "      <td>13d ago</td>\n",
       "      <td>4.2</td>\n",
       "    </tr>\n",
       "    <tr>\n",
       "      <th>9</th>\n",
       "      <td>Data Scientist - Noida/Bangalore</td>\n",
       "      <td>via naukri.com</td>\n",
       "      <td>3.9</td>\n",
       "    </tr>\n",
       "  </tbody>\n",
       "</table>\n",
       "</div>"
      ],
      "text/plain": [
       "                                        Company_name             Days Ratings\n",
       "0    Hiring Data Scientist #productbasecompany #CBRE          10d ago     4.3\n",
       "1  Hiring For Genpact-Data Scientist- Forecasting...   via naukri.com     4.0\n",
       "2  Genpact - Data Scientist - Forecasting/Python/...           3d ago     4.0\n",
       "3                                     Data Scientist   via naukri.com     4.3\n",
       "4                                     Data Scientist           5d ago     4.0\n",
       "5                                     Data Scientist  via iimjobs.com     4.1\n",
       "6                 Associate Manager - Data Scientist          20d ago     4.1\n",
       "7                                     Data Scientist   via naukri.com     4.3\n",
       "8                                     Data Scientist          13d ago     4.2\n",
       "9                   Data Scientist - Noida/Bangalore   via naukri.com     3.9"
      ]
     },
     "execution_count": 114,
     "metadata": {},
     "output_type": "execute_result"
    }
   ],
   "source": [
    "df=pd.DataFrame({'Company_name':company_name,'Days':No_of_days,'Ratings':Rating})\n",
    "df"
   ]
  },
  {
   "cell_type": "markdown",
   "id": "8f192a4e",
   "metadata": {},
   "source": [
    "e a python program to scrape the salary data for Data Scientist designation.\n",
    "You have to scrape Company name, Number of salaries, Average salary, Minsalary, Max Salary"
   ]
  },
  {
   "cell_type": "code",
   "execution_count": 161,
   "id": "1f44b140",
   "metadata": {},
   "outputs": [],
   "source": [
    "driver.get(\"http://www.ambitionbox.com/\")"
   ]
  },
  {
   "cell_type": "code",
   "execution_count": 162,
   "id": "fd66240d",
   "metadata": {},
   "outputs": [],
   "source": [
    "designation=driver.find_element(By.CLASS_NAME,\"tt-input\")\n",
    "designation.send_keys('Data Scientist')"
   ]
  },
  {
   "cell_type": "code",
   "execution_count": 163,
   "id": "97a7a23f",
   "metadata": {},
   "outputs": [],
   "source": [
    "company_name=[] \n",
    "total_salary_record=[]\n",
    "average_salary=[]\n",
    "minimum_salary=[] \n",
    "maximum_salary=[] \n",
    "experience_required=[]"
   ]
  },
  {
   "cell_type": "code",
   "execution_count": 164,
   "id": "fa87f5f6",
   "metadata": {},
   "outputs": [],
   "source": [
    "title_tags=driver.find_elements(By.XPATH,'//div[@class=\"company-info\"]')\n",
    "for i in title_tags[0:10]:\n",
    "    title=(i.text.split()[0:2])\n",
    "    company_name.append(title)\n",
    "    \n",
    "    \n",
    "salary_tags=driver.find_elements(By.XPATH,'//span[@class=\"datapoints\"]')\n",
    "for i in salary_tags[0:10]:\n",
    "    total_s=i.text\n",
    "    total_salary_record.append(total_s)\n",
    "    \n",
    "    \n",
    "avg_tags=driver.find_elements(By.XPATH,'//p[@class=\"averageCtc\"]')\n",
    "for i in avg_tags[0:10]:\n",
    "    company=i.text\n",
    "    average_salary.append(company)\n",
    "    \n",
    "min_tags=driver.find_elements(By.XPATH,'//div[@class=\"value body-medium\"]')\n",
    "for i in min_tags[0:10]:\n",
    "    mini=i.text\n",
    "    minimum_salary.append(mini)\n",
    "    \n",
    "    \n",
    "max_tags=driver.find_elements(By.XPATH,'//div[@class=\"value body-medium\"]')\n",
    "for i in max_tags[0:10]:\n",
    "    maxi=i.text\n",
    "    maximum_salary.append(maxi)\n",
    "    \n",
    "    \n",
    "exp_tags=driver.find_elements(By.XPATH,'//div[@class=\"sbold-list-header\"]')\n",
    "for i in exp_tags[0:10]:\n",
    "    exp=(i.text.split()[0:2])\n",
    "    experience_required.append(exp)\n",
    "    "
   ]
  },
  {
   "cell_type": "code",
   "execution_count": 165,
   "id": "451e4f00",
   "metadata": {},
   "outputs": [
    {
     "name": "stdout",
     "output_type": "stream",
     "text": [
      "10 10 10 10 10 10\n"
     ]
    }
   ],
   "source": [
    "print(len(company_name),len(total_salary_record),len(average_salary),len(minimum_salary),len( maximum_salary),len( experience_required))"
   ]
  },
  {
   "cell_type": "code",
   "execution_count": 166,
   "id": "c000ccda",
   "metadata": {},
   "outputs": [
    {
     "data": {
      "text/html": [
       "<div>\n",
       "<style scoped>\n",
       "    .dataframe tbody tr th:only-of-type {\n",
       "        vertical-align: middle;\n",
       "    }\n",
       "\n",
       "    .dataframe tbody tr th {\n",
       "        vertical-align: top;\n",
       "    }\n",
       "\n",
       "    .dataframe thead th {\n",
       "        text-align: right;\n",
       "    }\n",
       "</style>\n",
       "<table border=\"1\" class=\"dataframe\">\n",
       "  <thead>\n",
       "    <tr style=\"text-align: right;\">\n",
       "      <th></th>\n",
       "      <th>Company name</th>\n",
       "      <th>Total Salary</th>\n",
       "      <th>Avg Salary</th>\n",
       "      <th>Min</th>\n",
       "      <th>Max</th>\n",
       "      <th>Exp</th>\n",
       "    </tr>\n",
       "  </thead>\n",
       "  <tbody>\n",
       "    <tr>\n",
       "      <th>0</th>\n",
       "      <td>[Walmart, Data]</td>\n",
       "      <td>(based on 22 salaries)</td>\n",
       "      <td>₹ 31.7L</td>\n",
       "      <td>₹ 25.0L</td>\n",
       "      <td>₹ 25.0L</td>\n",
       "      <td>[3-4, yrs]</td>\n",
       "    </tr>\n",
       "    <tr>\n",
       "      <th>1</th>\n",
       "      <td>[Ab, Inbev]</td>\n",
       "      <td>(based on 53 salaries)</td>\n",
       "      <td>₹ 19.7L</td>\n",
       "      <td>₹ 45.0L</td>\n",
       "      <td>₹ 45.0L</td>\n",
       "      <td>[2-4, yrs]</td>\n",
       "    </tr>\n",
       "    <tr>\n",
       "      <th>2</th>\n",
       "      <td>[Optum, Data]</td>\n",
       "      <td>(based on 48 salaries)</td>\n",
       "      <td>₹ 16.5L</td>\n",
       "      <td>₹ 15.0L</td>\n",
       "      <td>₹ 15.0L</td>\n",
       "      <td>[2-4, yrs]</td>\n",
       "    </tr>\n",
       "    <tr>\n",
       "      <th>3</th>\n",
       "      <td>[ZS, Data]</td>\n",
       "      <td>(based on 33 salaries)</td>\n",
       "      <td>₹ 15.7L</td>\n",
       "      <td>₹ 25.5L</td>\n",
       "      <td>₹ 25.5L</td>\n",
       "      <td>[1-2, yrs]</td>\n",
       "    </tr>\n",
       "    <tr>\n",
       "      <th>4</th>\n",
       "      <td>[Fractal, Analytics]</td>\n",
       "      <td>(based on 109 salaries)</td>\n",
       "      <td>₹ 15.2L</td>\n",
       "      <td>₹ 11.0L</td>\n",
       "      <td>₹ 11.0L</td>\n",
       "      <td>[2-4, yrs]</td>\n",
       "    </tr>\n",
       "    <tr>\n",
       "      <th>5</th>\n",
       "      <td>[Tiger, Analytics]</td>\n",
       "      <td>(based on 65 salaries)</td>\n",
       "      <td>₹ 14.7L</td>\n",
       "      <td>₹ 22.6L</td>\n",
       "      <td>₹ 22.6L</td>\n",
       "      <td>[2-4, yrs]</td>\n",
       "    </tr>\n",
       "    <tr>\n",
       "      <th>6</th>\n",
       "      <td>[Legato, Health]</td>\n",
       "      <td>(based on 11 salaries)</td>\n",
       "      <td>₹ 14.5L</td>\n",
       "      <td>₹ 11.0L</td>\n",
       "      <td>₹ 11.0L</td>\n",
       "      <td>[4, yrs]</td>\n",
       "    </tr>\n",
       "    <tr>\n",
       "      <th>7</th>\n",
       "      <td>[Tredence, Data]</td>\n",
       "      <td>(based on 12 salaries)</td>\n",
       "      <td>₹ 14.1L</td>\n",
       "      <td>₹ 22.0L</td>\n",
       "      <td>₹ 22.0L</td>\n",
       "      <td>[3, yrs]</td>\n",
       "    </tr>\n",
       "    <tr>\n",
       "      <th>8</th>\n",
       "      <td>[UnitedHealth, Data]</td>\n",
       "      <td>(based on 91 salaries)</td>\n",
       "      <td>₹ 13.6L</td>\n",
       "      <td>₹ 9.0L</td>\n",
       "      <td>₹ 9.0L</td>\n",
       "      <td>[2-4, yrs]</td>\n",
       "    </tr>\n",
       "    <tr>\n",
       "      <th>9</th>\n",
       "      <td>[Ford, Motor]</td>\n",
       "      <td>(based on 21 salaries)</td>\n",
       "      <td>₹ 13.5L</td>\n",
       "      <td>₹ 23.0L</td>\n",
       "      <td>₹ 23.0L</td>\n",
       "      <td>[3-4, yrs]</td>\n",
       "    </tr>\n",
       "  </tbody>\n",
       "</table>\n",
       "</div>"
      ],
      "text/plain": [
       "           Company name             Total Salary Avg Salary      Min      Max  \\\n",
       "0       [Walmart, Data]   (based on 22 salaries)    ₹ 31.7L  ₹ 25.0L  ₹ 25.0L   \n",
       "1           [Ab, Inbev]   (based on 53 salaries)    ₹ 19.7L  ₹ 45.0L  ₹ 45.0L   \n",
       "2         [Optum, Data]   (based on 48 salaries)    ₹ 16.5L  ₹ 15.0L  ₹ 15.0L   \n",
       "3            [ZS, Data]   (based on 33 salaries)    ₹ 15.7L  ₹ 25.5L  ₹ 25.5L   \n",
       "4  [Fractal, Analytics]  (based on 109 salaries)    ₹ 15.2L  ₹ 11.0L  ₹ 11.0L   \n",
       "5    [Tiger, Analytics]   (based on 65 salaries)    ₹ 14.7L  ₹ 22.6L  ₹ 22.6L   \n",
       "6      [Legato, Health]   (based on 11 salaries)    ₹ 14.5L  ₹ 11.0L  ₹ 11.0L   \n",
       "7      [Tredence, Data]   (based on 12 salaries)    ₹ 14.1L  ₹ 22.0L  ₹ 22.0L   \n",
       "8  [UnitedHealth, Data]   (based on 91 salaries)    ₹ 13.6L   ₹ 9.0L   ₹ 9.0L   \n",
       "9         [Ford, Motor]   (based on 21 salaries)    ₹ 13.5L  ₹ 23.0L  ₹ 23.0L   \n",
       "\n",
       "          Exp  \n",
       "0  [3-4, yrs]  \n",
       "1  [2-4, yrs]  \n",
       "2  [2-4, yrs]  \n",
       "3  [1-2, yrs]  \n",
       "4  [2-4, yrs]  \n",
       "5  [2-4, yrs]  \n",
       "6    [4, yrs]  \n",
       "7    [3, yrs]  \n",
       "8  [2-4, yrs]  \n",
       "9  [3-4, yrs]  "
      ]
     },
     "execution_count": 166,
     "metadata": {},
     "output_type": "execute_result"
    }
   ],
   "source": [
    "df=pd.DataFrame({'Company name':company_name,'Total Salary':total_salary_record,'Avg Salary':average_salary,'Min':minimum_salary,'Max':maximum_salary,'Exp':experience_required})\n",
    "df"
   ]
  },
  {
   "cell_type": "code",
   "execution_count": null,
   "id": "7441ebf8",
   "metadata": {},
   "outputs": [],
   "source": [
    "\n",
    "\n",
    "-"
   ]
  }
 ],
 "metadata": {
  "kernelspec": {
   "display_name": "Python 3 (ipykernel)",
   "language": "python",
   "name": "python3"
  },
  "language_info": {
   "codemirror_mode": {
    "name": "ipython",
    "version": 3
   },
   "file_extension": ".py",
   "mimetype": "text/x-python",
   "name": "python",
   "nbconvert_exporter": "python",
   "pygments_lexer": "ipython3",
   "version": "3.9.7"
  }
 },
 "nbformat": 4,
 "nbformat_minor": 5
}
